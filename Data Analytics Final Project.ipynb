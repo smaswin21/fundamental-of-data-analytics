{
  "nbformat": 4,
  "nbformat_minor": 0,
  "metadata": {
    "colab": {
      "provenance": [],
      "include_colab_link": true
    },
    "kernelspec": {
      "name": "python3",
      "display_name": "Python 3"
    },
    "language_info": {
      "name": "python"
    }
  },
  "cells": [
    {
      "cell_type": "markdown",
      "metadata": {
        "id": "view-in-github",
        "colab_type": "text"
      },
      "source": [
        "<a href=\"https://colab.research.google.com/github/smaswin21/fundamental-of-data-analytics/blob/main/Data%20Analytics%20Final%20Project.ipynb\" target=\"_parent\"><img src=\"https://colab.research.google.com/assets/colab-badge.svg\" alt=\"Open In Colab\"/></a>"
      ]
    },
    {
      "cell_type": "markdown",
      "source": [
        "Importing Libraries"
      ],
      "metadata": {
        "id": "HtmOrl3MCj7_"
      }
    },
    {
      "cell_type": "code",
      "source": [
        "# Importing Libraries\n",
        "\n",
        "import numpy as np\n",
        "import pandas as pd\n",
        "import scipy.stats as ss\n",
        "import matplotlib.pyplot as plt\n",
        "import matplotlib.gridspec as gridspec\n",
        "%matplotlib inline\n",
        "\n",
        "plt.style.use('seaborn-whitegrid')\n",
        "\n",
        "from IPython.display import HTML\n",
        "from IPython.display import display, Image\n",
        "\n",
        "\n",
        "\n",
        "import statsmodels.stats.weightstats as smw\n",
        "import statsmodels.stats.proportion as smp\n",
        "# Using the CLT Theorem\n",
        "\n",
        "from scipy.stats import norm\n",
        "import pandas as pd\n",
        "import statsmodels.api as sm\n"
      ],
      "metadata": {
        "colab": {
          "base_uri": "https://localhost:8080/"
        },
        "id": "nDIUyLvjCkeM",
        "outputId": "4b09fe66-250e-45fc-eac2-539fd6873626"
      },
      "execution_count": null,
      "outputs": [
        {
          "output_type": "stream",
          "name": "stderr",
          "text": [
            "<ipython-input-1-374278df77dc>:10: MatplotlibDeprecationWarning: The seaborn styles shipped by Matplotlib are deprecated since 3.6, as they no longer correspond to the styles shipped by seaborn. However, they will remain available as 'seaborn-v0_8-<style>'. Alternatively, directly use the seaborn API instead.\n",
            "  plt.style.use('seaborn-whitegrid')\n"
          ]
        }
      ]
    },
    {
      "cell_type": "markdown",
      "source": [
        "Importing Google Colabs"
      ],
      "metadata": {
        "id": "D9eb9ExJKYai"
      }
    },
    {
      "cell_type": "code",
      "source": [
        "# Step 1 - import the dataset\n",
        "from google.colab import drive\n",
        "drive.mount('/content/drive')"
      ],
      "metadata": {
        "colab": {
          "base_uri": "https://localhost:8080/"
        },
        "id": "5W_tfso5Kc86",
        "outputId": "5091ce04-737e-43bd-af3d-722800510253"
      },
      "execution_count": null,
      "outputs": [
        {
          "output_type": "stream",
          "name": "stdout",
          "text": [
            "Mounted at /content/drive\n"
          ]
        }
      ]
    },
    {
      "cell_type": "markdown",
      "source": [
        "Independent Variables : Income_Tax, Unemployment.  \n",
        "\n",
        "Dependent Variables : GDP_capita"
      ],
      "metadata": {
        "id": "tyLyNRbcRJGD"
      }
    },
    {
      "cell_type": "markdown",
      "source": [
        "Independent Variables : Income_Tax, Unemployment.  \n",
        "\n",
        "Dependent Variables : GDP_Growth"
      ],
      "metadata": {
        "id": "FS1KNrTaUnMq"
      }
    },
    {
      "cell_type": "markdown",
      "source": [
        "1. Introduction of dataset\n",
        "\n",
        "2. Looking into the data\n",
        "\n",
        "3. Univariate analysis\n",
        "\n",
        "- Probability Density Function\n",
        "- Cumulative Density Function\n",
        "- Box plot\n",
        "- Violin plot\n",
        "\n",
        "4. Bivariate analysis\n",
        "\n",
        "- Scatter plot\n",
        "- Pair plot\n",
        "\n",
        "5. Multivariate analysis\n",
        "\n",
        "- Contour plot"
      ],
      "metadata": {
        "id": "MXrCRAGLV-fK"
      }
    },
    {
      "cell_type": "code",
      "source": [
        "import pandas as pd\n",
        "path=\"/content/drive/MyDrive/FDA - Project /Datasets/fda_final.xlsx\"\n",
        "data = pd.read_excel(path)\n"
      ],
      "metadata": {
        "id": "9bjrFmtIKg4Q"
      },
      "execution_count": null,
      "outputs": []
    },
    {
      "cell_type": "markdown",
      "source": [
        "Basics"
      ],
      "metadata": {
        "id": "MJHuEo2JWznc"
      }
    },
    {
      "cell_type": "code",
      "source": [
        "data.shape # This dataset has 27 data points and 4 features"
      ],
      "metadata": {
        "colab": {
          "base_uri": "https://localhost:8080/"
        },
        "id": "Nx7UDLkIUxIY",
        "outputId": "5c1f487b-ce33-404c-e5ef-91bcc326587b"
      },
      "execution_count": null,
      "outputs": [
        {
          "output_type": "execute_result",
          "data": {
            "text/plain": [
              "(27, 5)"
            ]
          },
          "metadata": {},
          "execution_count": 4
        }
      ]
    },
    {
      "cell_type": "code",
      "source": [
        "print(data.head()) #"
      ],
      "metadata": {
        "colab": {
          "base_uri": "https://localhost:8080/"
        },
        "id": "ZhaCdLOHWOkn",
        "outputId": "c5ca331d-2e9b-4232-80b6-03774c0073f2"
      },
      "execution_count": null,
      "outputs": [
        {
          "output_type": "stream",
          "name": "stdout",
          "text": [
            "   Country   GDP_growth  Income_Tax  GDP_capita  Unemployment \n",
            "0   Austria         4.6        22.4       68775      31.523942\n",
            "1   Belgium         6.1        26.7       65818      42.296179\n",
            "2  Bulgaria         7.6        10.3       32233      28.248467\n",
            "3   Croatia        13.1        20.1       40214      20.285690\n",
            "4    Cyprus         6.6        19.7       43318      24.156616\n"
          ]
        }
      ]
    },
    {
      "cell_type": "code",
      "source": [
        "data['Serial_no'] = range(1, 28)\n",
        "data.head()"
      ],
      "metadata": {
        "colab": {
          "base_uri": "https://localhost:8080/",
          "height": 206
        },
        "id": "uqB2bPbeh5DS",
        "outputId": "9d480fc2-21d1-4334-b161-50d80c06edea"
      },
      "execution_count": null,
      "outputs": [
        {
          "output_type": "execute_result",
          "data": {
            "text/plain": [
              "   Country   GDP_growth  Income_Tax  GDP_capita  Unemployment   \\\n",
              "0   Austria         4.6        22.4       68775      31.523942   \n",
              "1   Belgium         6.1        26.7       65818      42.296179   \n",
              "2  Bulgaria         7.6        10.3       32233      28.248467   \n",
              "3   Croatia        13.1        20.1       40214      20.285690   \n",
              "4    Cyprus         6.6        19.7       43318      24.156616   \n",
              "\n",
              "  Unemployment_Group Tax_Group_3levels GDP_Group  Serial No  Serial_no  \n",
              "0                  L                 M         H          1          1  \n",
              "1                  H                 H         H          2          2  \n",
              "2                  L                 L         L          3          3  \n",
              "3                  L                 M         L          4          4  \n",
              "4                  L                 M         L          5          5  "
            ],
            "text/html": [
              "\n",
              "  <div id=\"df-f9d4aa9a-4352-45ac-a4bb-88571789e42b\">\n",
              "    <div class=\"colab-df-container\">\n",
              "      <div>\n",
              "<style scoped>\n",
              "    .dataframe tbody tr th:only-of-type {\n",
              "        vertical-align: middle;\n",
              "    }\n",
              "\n",
              "    .dataframe tbody tr th {\n",
              "        vertical-align: top;\n",
              "    }\n",
              "\n",
              "    .dataframe thead th {\n",
              "        text-align: right;\n",
              "    }\n",
              "</style>\n",
              "<table border=\"1\" class=\"dataframe\">\n",
              "  <thead>\n",
              "    <tr style=\"text-align: right;\">\n",
              "      <th></th>\n",
              "      <th>Country</th>\n",
              "      <th>GDP_growth</th>\n",
              "      <th>Income_Tax</th>\n",
              "      <th>GDP_capita</th>\n",
              "      <th>Unemployment</th>\n",
              "      <th>Unemployment_Group</th>\n",
              "      <th>Tax_Group_3levels</th>\n",
              "      <th>GDP_Group</th>\n",
              "      <th>Serial No</th>\n",
              "      <th>Serial_no</th>\n",
              "    </tr>\n",
              "  </thead>\n",
              "  <tbody>\n",
              "    <tr>\n",
              "      <th>0</th>\n",
              "      <td>Austria</td>\n",
              "      <td>4.6</td>\n",
              "      <td>22.4</td>\n",
              "      <td>68775</td>\n",
              "      <td>31.523942</td>\n",
              "      <td>L</td>\n",
              "      <td>M</td>\n",
              "      <td>H</td>\n",
              "      <td>1</td>\n",
              "      <td>1</td>\n",
              "    </tr>\n",
              "    <tr>\n",
              "      <th>1</th>\n",
              "      <td>Belgium</td>\n",
              "      <td>6.1</td>\n",
              "      <td>26.7</td>\n",
              "      <td>65818</td>\n",
              "      <td>42.296179</td>\n",
              "      <td>H</td>\n",
              "      <td>H</td>\n",
              "      <td>H</td>\n",
              "      <td>2</td>\n",
              "      <td>2</td>\n",
              "    </tr>\n",
              "    <tr>\n",
              "      <th>2</th>\n",
              "      <td>Bulgaria</td>\n",
              "      <td>7.6</td>\n",
              "      <td>10.3</td>\n",
              "      <td>32233</td>\n",
              "      <td>28.248467</td>\n",
              "      <td>L</td>\n",
              "      <td>L</td>\n",
              "      <td>L</td>\n",
              "      <td>3</td>\n",
              "      <td>3</td>\n",
              "    </tr>\n",
              "    <tr>\n",
              "      <th>3</th>\n",
              "      <td>Croatia</td>\n",
              "      <td>13.1</td>\n",
              "      <td>20.1</td>\n",
              "      <td>40214</td>\n",
              "      <td>20.285690</td>\n",
              "      <td>L</td>\n",
              "      <td>M</td>\n",
              "      <td>L</td>\n",
              "      <td>4</td>\n",
              "      <td>4</td>\n",
              "    </tr>\n",
              "    <tr>\n",
              "      <th>4</th>\n",
              "      <td>Cyprus</td>\n",
              "      <td>6.6</td>\n",
              "      <td>19.7</td>\n",
              "      <td>43318</td>\n",
              "      <td>24.156616</td>\n",
              "      <td>L</td>\n",
              "      <td>M</td>\n",
              "      <td>L</td>\n",
              "      <td>5</td>\n",
              "      <td>5</td>\n",
              "    </tr>\n",
              "  </tbody>\n",
              "</table>\n",
              "</div>\n",
              "      <button class=\"colab-df-convert\" onclick=\"convertToInteractive('df-f9d4aa9a-4352-45ac-a4bb-88571789e42b')\"\n",
              "              title=\"Convert this dataframe to an interactive table.\"\n",
              "              style=\"display:none;\">\n",
              "        \n",
              "  <svg xmlns=\"http://www.w3.org/2000/svg\" height=\"24px\"viewBox=\"0 0 24 24\"\n",
              "       width=\"24px\">\n",
              "    <path d=\"M0 0h24v24H0V0z\" fill=\"none\"/>\n",
              "    <path d=\"M18.56 5.44l.94 2.06.94-2.06 2.06-.94-2.06-.94-.94-2.06-.94 2.06-2.06.94zm-11 1L8.5 8.5l.94-2.06 2.06-.94-2.06-.94L8.5 2.5l-.94 2.06-2.06.94zm10 10l.94 2.06.94-2.06 2.06-.94-2.06-.94-.94-2.06-.94 2.06-2.06.94z\"/><path d=\"M17.41 7.96l-1.37-1.37c-.4-.4-.92-.59-1.43-.59-.52 0-1.04.2-1.43.59L10.3 9.45l-7.72 7.72c-.78.78-.78 2.05 0 2.83L4 21.41c.39.39.9.59 1.41.59.51 0 1.02-.2 1.41-.59l7.78-7.78 2.81-2.81c.8-.78.8-2.07 0-2.86zM5.41 20L4 18.59l7.72-7.72 1.47 1.35L5.41 20z\"/>\n",
              "  </svg>\n",
              "      </button>\n",
              "      \n",
              "  <style>\n",
              "    .colab-df-container {\n",
              "      display:flex;\n",
              "      flex-wrap:wrap;\n",
              "      gap: 12px;\n",
              "    }\n",
              "\n",
              "    .colab-df-convert {\n",
              "      background-color: #E8F0FE;\n",
              "      border: none;\n",
              "      border-radius: 50%;\n",
              "      cursor: pointer;\n",
              "      display: none;\n",
              "      fill: #1967D2;\n",
              "      height: 32px;\n",
              "      padding: 0 0 0 0;\n",
              "      width: 32px;\n",
              "    }\n",
              "\n",
              "    .colab-df-convert:hover {\n",
              "      background-color: #E2EBFA;\n",
              "      box-shadow: 0px 1px 2px rgba(60, 64, 67, 0.3), 0px 1px 3px 1px rgba(60, 64, 67, 0.15);\n",
              "      fill: #174EA6;\n",
              "    }\n",
              "\n",
              "    [theme=dark] .colab-df-convert {\n",
              "      background-color: #3B4455;\n",
              "      fill: #D2E3FC;\n",
              "    }\n",
              "\n",
              "    [theme=dark] .colab-df-convert:hover {\n",
              "      background-color: #434B5C;\n",
              "      box-shadow: 0px 1px 3px 1px rgba(0, 0, 0, 0.15);\n",
              "      filter: drop-shadow(0px 1px 2px rgba(0, 0, 0, 0.3));\n",
              "      fill: #FFFFFF;\n",
              "    }\n",
              "  </style>\n",
              "\n",
              "      <script>\n",
              "        const buttonEl =\n",
              "          document.querySelector('#df-f9d4aa9a-4352-45ac-a4bb-88571789e42b button.colab-df-convert');\n",
              "        buttonEl.style.display =\n",
              "          google.colab.kernel.accessAllowed ? 'block' : 'none';\n",
              "\n",
              "        async function convertToInteractive(key) {\n",
              "          const element = document.querySelector('#df-f9d4aa9a-4352-45ac-a4bb-88571789e42b');\n",
              "          const dataTable =\n",
              "            await google.colab.kernel.invokeFunction('convertToInteractive',\n",
              "                                                     [key], {});\n",
              "          if (!dataTable) return;\n",
              "\n",
              "          const docLinkHtml = 'Like what you see? Visit the ' +\n",
              "            '<a target=\"_blank\" href=https://colab.research.google.com/notebooks/data_table.ipynb>data table notebook</a>'\n",
              "            + ' to learn more about interactive tables.';\n",
              "          element.innerHTML = '';\n",
              "          dataTable['output_type'] = 'display_data';\n",
              "          await google.colab.output.renderOutput(dataTable, element);\n",
              "          const docLink = document.createElement('div');\n",
              "          docLink.innerHTML = docLinkHtml;\n",
              "          element.appendChild(docLink);\n",
              "        }\n",
              "      </script>\n",
              "    </div>\n",
              "  </div>\n",
              "  "
            ]
          },
          "metadata": {},
          "execution_count": 55
        }
      ]
    },
    {
      "cell_type": "code",
      "source": [
        "print(data.columns)\n"
      ],
      "metadata": {
        "colab": {
          "base_uri": "https://localhost:8080/"
        },
        "id": "omQLxyFgiOwE",
        "outputId": "0cb06019-afad-483a-bb0e-030c4921164c"
      },
      "execution_count": null,
      "outputs": [
        {
          "output_type": "stream",
          "name": "stdout",
          "text": [
            "Index(['Country ', 'GDP_growth', 'Income_Tax', 'GDP_capita', 'Unemployment ',\n",
            "       'Unemployment_Group', 'Tax_Group_3levels', 'GDP_Group', 'Serial No',\n",
            "       'Serial_no'],\n",
            "      dtype='object')\n"
          ]
        }
      ]
    },
    {
      "cell_type": "code",
      "source": [
        "import pandas as pd\n",
        "\n",
        "# assuming df is your DataFrame and 'Variable' is the column with the variable you're interested in\n",
        "def find_outliers(data, Serial_no):\n",
        "    Q1 = data[Serial_no].quantile(0.25)\n",
        "    Q3 = data[Serial_no].quantile(0.75)\n",
        "    IQR = Q3 - Q1\n",
        "\n",
        "    # define the range for non-outliers\n",
        "    non_outlier_range = (data[Serial_no] >= Q1 - 1.5*IQR) & (data[Serial_no] <= Q3 + 1.5*IQR)\n",
        "\n",
        "    # find the outliers\n",
        "    outliers = data[~non_outlier_range]\n",
        "\n",
        "    return outliers\n",
        "\n",
        "outliers = find_outliers(data, 'Serial_no')\n",
        "print(outliers)\n"
      ],
      "metadata": {
        "colab": {
          "base_uri": "https://localhost:8080/"
        },
        "id": "nbjG97_zgryD",
        "outputId": "062c9f23-bcfc-4b33-e31f-9e21314d7d11"
      },
      "execution_count": null,
      "outputs": [
        {
          "output_type": "stream",
          "name": "stdout",
          "text": [
            "Empty DataFrame\n",
            "Columns: [Country , GDP_growth, Income_Tax, GDP_capita, Unemployment , Unemployment_Group, Tax_Group_3levels, GDP_Group, Serial No, Serial_no]\n",
            "Index: []\n"
          ]
        }
      ]
    },
    {
      "cell_type": "markdown",
      "source": [
        "OUTLIERS\n"
      ],
      "metadata": {
        "id": "8m-mhmSoksdb"
      }
    },
    {
      "cell_type": "code",
      "source": [
        "import numpy as np\n",
        "import pandas as pd\n",
        "import matplotlib.pyplot as plt\n",
        "plt.style.use('seaborn')\n",
        "\n",
        "import scipy.stats as ss\n",
        "\n",
        "import matplotlib.gridspec as gridspec\n",
        "\n",
        "#!pip install statsmodels==0.10.0rc2 --pre\n",
        "import statsmodels.api as sm\n",
        "from statsmodels.formula.api import ols\n",
        "\n",
        "from statsmodels.stats.multicomp import MultiComparison"
      ],
      "metadata": {
        "colab": {
          "base_uri": "https://localhost:8080/"
        },
        "id": "DNjD1zX7ktyH",
        "outputId": "514fd9da-22fb-473b-8614-b47177fd702d"
      },
      "execution_count": null,
      "outputs": [
        {
          "output_type": "stream",
          "name": "stderr",
          "text": [
            "<ipython-input-4-a157f7937225>:4: MatplotlibDeprecationWarning: The seaborn styles shipped by Matplotlib are deprecated since 3.6, as they no longer correspond to the styles shipped by seaborn. However, they will remain available as 'seaborn-v0_8-<style>'. Alternatively, directly use the seaborn API instead.\n",
            "  plt.style.use('seaborn')\n"
          ]
        }
      ]
    },
    {
      "cell_type": "code",
      "source": [
        "import numpy as np\n",
        "import pandas as pd\n",
        "from scipy import stats\n",
        "\n",
        "# Assuming 'df' is your dataset stored in a pandas DataFrame\n",
        "# Assuming 'variable_names' is a list of the variable names you want to compute z-scores for\n",
        "\n",
        "# Select the columns for the specified variable names\n",
        "data_selected = data[\"GDP_growth\", \"Income_Tax\", \"GDP_capita\", \"Unemployment \"]\n",
        "\n",
        "# Compute z-scores for the selected columns\n",
        "data_z = np.abs(stats.zscore(data_selected))\n",
        "\n",
        "# You can convert the resulting array back to a DataFrame if needed\n",
        "data_z = pd.DataFrame(data_z, columns=GDP_growth, Income_Tx\", \"GDP_capita\", \"Unemployment \")\n",
        "\n",
        "# Print the DataFrame with z-scores\n",
        "print(data_z)\n"
      ],
      "metadata": {
        "colab": {
          "base_uri": "https://localhost:8080/",
          "height": 131
        },
        "id": "ECmWd5xGlGRO",
        "outputId": "3cb2a36a-f593-4328-a55e-b48f064a6906"
      },
      "execution_count": null,
      "outputs": [
        {
          "output_type": "error",
          "ename": "SyntaxError",
          "evalue": "ignored",
          "traceback": [
            "\u001b[0;36m  File \u001b[0;32m\"<ipython-input-8-c2d9aed104ad>\"\u001b[0;36m, line \u001b[0;32m15\u001b[0m\n\u001b[0;31m    data_z = pd.DataFrame(data_z, columns=\"GDP_growth\", \"Income_Tax\", \"GDP_capita\", \"Unemployment \")\u001b[0m\n\u001b[0m                                                                                                   ^\u001b[0m\n\u001b[0;31mSyntaxError\u001b[0m\u001b[0;31m:\u001b[0m positional argument follows keyword argument\n"
          ]
        }
      ]
    },
    {
      "cell_type": "markdown",
      "source": [
        "# Central Measure Tendency"
      ],
      "metadata": {
        "id": "Di7Won5Zc9iS"
      }
    },
    {
      "cell_type": "code",
      "source": [
        "import pandas as pd\n",
        "\n",
        "# get a summary of the dataset\n",
        "print(data.describe())\n",
        "\n",
        "# get the correlation matrix of the dataset\n",
        "print(data.corr())"
      ],
      "metadata": {
        "colab": {
          "base_uri": "https://localhost:8080/"
        },
        "id": "6131cwDvdBv1",
        "outputId": "37a08d80-a1c7-450d-db1b-86d0d1a0a237"
      },
      "execution_count": null,
      "outputs": [
        {
          "output_type": "stream",
          "name": "stdout",
          "text": [
            "       GDP_growth  Income_Tax     GDP_capita  Unemployment \n",
            "count   27.000000   27.000000      27.000000      27.000000\n",
            "mean     6.229630   21.918519   57185.851852      35.188985\n",
            "std      2.587517    8.776982   25426.999171      11.397225\n",
            "min      2.600000    9.000000   32233.000000      19.314583\n",
            "25%      4.900000   17.500000   42518.500000      27.664151\n",
            "50%      6.000000   21.700000   49265.000000      32.567796\n",
            "75%      6.950000   26.050000   64655.000000      41.392696\n",
            "max     13.600000   52.200000  143397.000000      62.914613\n",
            "               GDP_growth  Income_Tax  GDP_capita  Unemployment \n",
            "GDP_growth       1.000000   -0.041737    0.133081      -0.307790\n",
            "Income_Tax      -0.041737    1.000000    0.519125       0.101849\n",
            "GDP_capita       0.133081    0.519125    1.000000      -0.211271\n",
            "Unemployment    -0.307790    0.101849   -0.211271       1.000000\n"
          ]
        },
        {
          "output_type": "stream",
          "name": "stderr",
          "text": [
            "<ipython-input-7-654b7aa23f65>:7: FutureWarning: The default value of numeric_only in DataFrame.corr is deprecated. In a future version, it will default to False. Select only valid columns or specify the value of numeric_only to silence this warning.\n",
            "  print(data.corr())\n"
          ]
        }
      ]
    },
    {
      "cell_type": "markdown",
      "source": [
        "1. GDP_growth"
      ],
      "metadata": {
        "id": "LWnfnFyxdLFN"
      }
    },
    {
      "cell_type": "code",
      "source": [
        "# get the mean and standard deviation of the GDP growth column\n",
        "mean = data['GDP_growth'].mean()\n",
        "std = data['GDP_growth'].std()\n",
        "mode = data[\"GDP_growth\"].mode()\n",
        "median = data[\"GDP_growth\"].median()\n",
        "\n",
        "print('Mean GDP growth:', mean)\n",
        "print('Standard deviation of GDP growth:', std)\n",
        "print('Mode of GDP growth:', mode)\n",
        "print('Median of GDP growth:', mode)"
      ],
      "metadata": {
        "colab": {
          "base_uri": "https://localhost:8080/"
        },
        "id": "8dwZR591dJQB",
        "outputId": "c4bf5b7f-c3fa-45f2-a841-d678927a6524"
      },
      "execution_count": null,
      "outputs": [
        {
          "output_type": "stream",
          "name": "stdout",
          "text": [
            "Mean GDP growth: 6.229629629629629\n",
            "Standard deviation of GDP growth: 2.5875166019259015\n",
            "Mode of GDP growth: 0    5.1\n",
            "Name: GDP_growth, dtype: float64\n",
            "Median of GDP growth: 0    5.1\n",
            "Name: GDP_growth, dtype: float64\n"
          ]
        }
      ]
    },
    {
      "cell_type": "markdown",
      "source": [
        "2. Income_Tax"
      ],
      "metadata": {
        "id": "UohAleD3diZj"
      }
    },
    {
      "cell_type": "code",
      "source": [
        "mean = data['Income_Tax'].mean()\n",
        "std = data['Income_Tax'].std()\n",
        "mode = data[\"Income_Tax\"].mode()\n",
        "median = data[\"Income_Tax\"].median()\n",
        "\n",
        "print('Mean :', mean)\n",
        "print('Standard deviation :', std)\n",
        "print('Mode :', mode)\n",
        "print('Median :', median)"
      ],
      "metadata": {
        "colab": {
          "base_uri": "https://localhost:8080/"
        },
        "id": "3tSGULzSdjdf",
        "outputId": "c08df88c-4ff7-4686-8174-3671585607b0"
      },
      "execution_count": null,
      "outputs": [
        {
          "output_type": "stream",
          "name": "stdout",
          "text": [
            "Mean : 21.918518518518518\n",
            "Standard deviation : 8.776982004391549\n",
            "Mode : 0    19.6\n",
            "Name: Income_Tax, dtype: float64\n",
            "Median : 21.7\n"
          ]
        }
      ]
    },
    {
      "cell_type": "markdown",
      "source": [
        "3. Unemployment"
      ],
      "metadata": {
        "id": "Jcp36BzxdwyX"
      }
    },
    {
      "cell_type": "code",
      "source": [
        "mean = data['Unemployment '].mean()\n",
        "std = data['Unemployment '].std()\n",
        "mode = data['Unemployment '].mode()\n",
        "median = data['Unemployment '].median()\n",
        "\n",
        "print('Mean :', mean)\n",
        "print('Standard deviation :', std)\n",
        "\n",
        "print('Median :', median)"
      ],
      "metadata": {
        "colab": {
          "base_uri": "https://localhost:8080/"
        },
        "outputId": "10efb968-f911-4417-d915-31abb9017167",
        "id": "ulMj42UIdyTA"
      },
      "execution_count": null,
      "outputs": [
        {
          "output_type": "stream",
          "name": "stdout",
          "text": [
            "Mean : 35.1889849782751\n",
            "Standard deviation : 11.39722545357657\n",
            "Median : 32.5677960475731\n"
          ]
        }
      ]
    },
    {
      "cell_type": "markdown",
      "source": [
        "4. GDP_capita"
      ],
      "metadata": {
        "id": "AeaJoxare1OJ"
      }
    },
    {
      "cell_type": "code",
      "source": [
        "mean = data['GDP_capita'].mean()\n",
        "std = data['GDP_capita'].std()\n",
        "mode = data['GDP_capita'].mode()\n",
        "median = data['GDP_capita'].median()\n",
        "\n",
        "print('Mean :', mean)\n",
        "print('Standard deviation :', std)\n",
        "\n",
        "print('Median :', median)"
      ],
      "metadata": {
        "colab": {
          "base_uri": "https://localhost:8080/"
        },
        "id": "o-2dDIBKeIYi",
        "outputId": "31489d6d-5dec-468b-ef55-40db7f330563"
      },
      "execution_count": null,
      "outputs": [
        {
          "output_type": "stream",
          "name": "stdout",
          "text": [
            "Mean : 57185.851851851854\n",
            "Standard deviation : 25426.999170632815\n",
            "Median : 49265.0\n"
          ]
        }
      ]
    },
    {
      "cell_type": "markdown",
      "source": [
        "Boxplots\n",
        "\n",
        "1. GDP Growth\n",
        "2. Income_Tax\n",
        "3. GDP_capita\n",
        "4. Unemployment"
      ],
      "metadata": {
        "id": "lqu1S5QWfqCn"
      }
    },
    {
      "cell_type": "code",
      "source": [
        "import seaborn as sns\n",
        "import matplotlib.pyplot as plt\n",
        "\n",
        "sns.boxplot(x=data['GDP_growth'])\n",
        "\n",
        "# set the plot title and axis labels\n",
        "plt.title('Box plot of GDP growth')\n",
        "plt.xlabel('GDP growth')\n",
        "\n",
        "# show the plot\n",
        "plt.show()"
      ],
      "metadata": {
        "colab": {
          "base_uri": "https://localhost:8080/",
          "height": 465
        },
        "id": "kpeziITwfqaC",
        "outputId": "14f986ec-1ea6-4f9e-c585-a240888c77a5"
      },
      "execution_count": null,
      "outputs": [
        {
          "output_type": "display_data",
          "data": {
            "text/plain": [
              "<Figure size 640x480 with 1 Axes>"
            ],
            "image/png": "[encoded data removed]"
          },
          "metadata": {}
        }
      ]
    },
    {
      "cell_type": "code",
      "source": [
        "sns.boxplot(x=data['Income_Tax'])\n",
        "\n",
        "# set the plot title and axis labels\n",
        "plt.title('Box plot of Income_Tax')\n",
        "plt.xlabel('Income_Tax')\n",
        "\n",
        "# show the plot\n",
        "plt.show()"
      ],
      "metadata": {
        "colab": {
          "base_uri": "https://localhost:8080/",
          "height": 465
        },
        "id": "J_5P8tFeg0Oo",
        "outputId": "3c9c9c52-9387-46d5-fa2a-a566b35bd414"
      },
      "execution_count": null,
      "outputs": [
        {
          "output_type": "display_data",
          "data": {
            "text/plain": [
              "<Figure size 640x480 with 1 Axes>"
            ],
            "image/png": "[encoded data removed]"
          },
          "metadata": {}
        }
      ]
    },
    {
      "cell_type": "code",
      "source": [
        "sns.boxplot(x=data['GDP_capita'])\n",
        "\n",
        "# set the plot title and axis labels\n",
        "plt.title('Box plot of GDP_capita')\n",
        "plt.xlabel('GDP_capita ')\n",
        "\n",
        "# show the plot\n",
        "plt.show()"
      ],
      "metadata": {
        "colab": {
          "base_uri": "https://localhost:8080/",
          "height": 465
        },
        "id": "2Xv8R4XSg7IX",
        "outputId": "bf07f5d5-00ed-43cc-9f25-7e874ac48ce5"
      },
      "execution_count": null,
      "outputs": [
        {
          "output_type": "display_data",
          "data": {
            "text/plain": [
              "<Figure size 640x480 with 1 Axes>"
            ],
            "image/png": "[encoded data removed]"
          },
          "metadata": {}
        }
      ]
    },
    {
      "cell_type": "code",
      "source": [
        "sns.boxplot(x=data['Unemployment '])\n",
        "\n",
        "# set the plot title and axis labels\n",
        "plt.title('Box plot of Unemployment')\n",
        "plt.xlabel('Unemployment ')\n",
        "\n",
        "# show the plot\n",
        "plt.show()"
      ],
      "metadata": {
        "colab": {
          "base_uri": "https://localhost:8080/",
          "height": 465
        },
        "id": "Vc2geLQlhjWq",
        "outputId": "33659b26-4c66-4918-d0de-8727c9fc604f"
      },
      "execution_count": null,
      "outputs": [
        {
          "output_type": "display_data",
          "data": {
            "text/plain": [
              "<Figure size 640x480 with 1 Axes>"
            ],
            "image/png": "[encoded data removed]"
          },
          "metadata": {}
        }
      ]
    },
    {
      "cell_type": "markdown",
      "source": [
        "Skew"
      ],
      "metadata": {
        "id": "DZrHRniEr2W8"
      }
    },
    {
      "cell_type": "code",
      "source": [
        "import pandas as pd\n",
        "import matplotlib.pyplot as plt\n",
        "import seaborn as sns\n",
        "\n",
        "\n",
        "# create a figure with two subplots\n",
        "fig, ax = plt.subplots(1, 2, figsize=(14, 6))\n",
        "\n",
        "# plot the histogram for 'Serial No'\n",
        "sns.histplot(data=data, x='GDP_growth', kde=True, ax=ax[0])\n",
        "ax[0].set_title('GDP Growth Skewness: {}'.format(data['GDP_growth'].skew()))\n",
        "\n",
        "# plot the histogram for 'GDP'\n",
        "sns.histplot(data=data, x='GDP_capita', kde=True, ax=ax[1])\n",
        "ax[1].set_title('GDP Capita Skewness: {}'.format(data['GDP_capita'].skew()))\n",
        "\n",
        "plt.tight_layout()\n",
        "plt.show()\n"
      ],
      "metadata": {
        "colab": {
          "base_uri": "https://localhost:8080/",
          "height": 576
        },
        "id": "rkO4slBmr3Os",
        "outputId": "91ba0aad-46e4-4585-adb5-5eacbf01b5fc"
      },
      "execution_count": null,
      "outputs": [
        {
          "output_type": "display_data",
          "data": {
            "text/plain": [
              "<Figure size 1400x600 with 2 Axes>"
            ],
            "image/png": "[encoded data removed]"
          },
          "metadata": {}
        }
      ]
    },
    {
      "cell_type": "markdown",
      "source": [
        "Bi-Variate Analysis\n",
        "\n",
        "1. Scatterplot\n",
        "\n",
        "a. GDP_capita\n",
        "\n",
        "b. GDP_growth\n",
        "\n"
      ],
      "metadata": {
        "id": "jbOcETVdi_Gv"
      }
    },
    {
      "cell_type": "code",
      "source": [
        "# a\n",
        "sns.FacetGrid(data, hue=\"GDP_capita\", height=8) \\\n",
        "   .map(plt.scatter, \"Unemployment \", \"Income_Tax\") \\\n",
        "   .add_legend();"
      ],
      "metadata": {
        "colab": {
          "base_uri": "https://localhost:8080/",
          "height": 807
        },
        "id": "GqkZdVDvi_dt",
        "outputId": "5a17df3b-869a-466c-f775-96604368bf3d"
      },
      "execution_count": null,
      "outputs": [
        {
          "output_type": "display_data",
          "data": {
            "text/plain": [
              "<Figure size 896.5x800 with 1 Axes>"
            ],
            "image/png": "[encoded data removed]"
          },
          "metadata": {}
        }
      ]
    },
    {
      "cell_type": "code",
      "source": [
        "# b\n",
        "sns.FacetGrid(data, hue=\"GDP_growth\", height=8) \\\n",
        "   .map(plt.scatter, \"Unemployment \", \"Income_Tax\") \\\n",
        "   .add_legend();"
      ],
      "metadata": {
        "colab": {
          "base_uri": "https://localhost:8080/",
          "height": 807
        },
        "id": "70ssLl2fn0wY",
        "outputId": "dade81c7-a3bc-48a1-bdf3-46cbca2d7015"
      },
      "execution_count": null,
      "outputs": [
        {
          "output_type": "display_data",
          "data": {
            "text/plain": [
              "<Figure size 890.861x800 with 1 Axes>"
            ],
            "image/png": "[encoded data removed]"
          },
          "metadata": {}
        }
      ]
    },
    {
      "cell_type": "markdown",
      "source": [
        "* Side by Side Histogram\n",
        "\n",
        "Comparing the variables with GDP_capita and GDP_growth\n",
        "\n"
      ],
      "metadata": {
        "id": "LI8wrN0kXvtA"
      }
    },
    {
      "cell_type": "code",
      "source": [
        "\n",
        "var1 = data['GDP_capita ']\n",
        "var2 = data['GDP_growth']\n",
        "\n",
        "fig, ax = plt.subplots(1, 2, figsize=(10,5))\n",
        "ax[0].hist(var1)\n",
        "ax[1].hist(var2)\n",
        "ax[0].set_title('GDP_capita ')\n",
        "ax[1].set_title('GDP_growth')\n",
        "ax[0].set_xlabel('GDP_capita values')\n",
        "ax[1].set_xlabel('GDP_growth values')\n",
        "ax[0].set_ylabel('Frequency')\n",
        "plt.show()\n"
      ],
      "metadata": {
        "colab": {
          "base_uri": "https://localhost:8080/",
          "height": 502
        },
        "id": "C4m50A8xVwEp",
        "outputId": "dd48f1cd-fc3d-431c-960c-0cb3fb637b92"
      },
      "execution_count": null,
      "outputs": [
        {
          "output_type": "error",
          "ename": "KeyError",
          "evalue": "ignored",
          "traceback": [
            "\u001b[0;31m---------------------------------------------------------------------------\u001b[0m",
            "\u001b[0;31mKeyError\u001b[0m                                  Traceback (most recent call last)",
            "\u001b[0;32m/usr/local/lib/python3.10/dist-packages/pandas/core/indexes/base.py\u001b[0m in \u001b[0;36mget_loc\u001b[0;34m(self, key, method, tolerance)\u001b[0m\n\u001b[1;32m   3801\u001b[0m             \u001b[0;32mtry\u001b[0m\u001b[0;34m:\u001b[0m\u001b[0;34m\u001b[0m\u001b[0;34m\u001b[0m\u001b[0m\n\u001b[0;32m-> 3802\u001b[0;31m                 \u001b[0;32mreturn\u001b[0m \u001b[0mself\u001b[0m\u001b[0;34m.\u001b[0m\u001b[0m_engine\u001b[0m\u001b[0;34m.\u001b[0m\u001b[0mget_loc\u001b[0m\u001b[0;34m(\u001b[0m\u001b[0mcasted_key\u001b[0m\u001b[0;34m)\u001b[0m\u001b[0;34m\u001b[0m\u001b[0;34m\u001b[0m\u001b[0m\n\u001b[0m\u001b[1;32m   3803\u001b[0m             \u001b[0;32mexcept\u001b[0m \u001b[0mKeyError\u001b[0m \u001b[0;32mas\u001b[0m \u001b[0merr\u001b[0m\u001b[0;34m:\u001b[0m\u001b[0;34m\u001b[0m\u001b[0;34m\u001b[0m\u001b[0m\n",
            "\u001b[0;32m/usr/local/lib/python3.10/dist-packages/pandas/_libs/index.pyx\u001b[0m in \u001b[0;36mpandas._libs.index.IndexEngine.get_loc\u001b[0;34m()\u001b[0m\n",
            "\u001b[0;32m/usr/local/lib/python3.10/dist-packages/pandas/_libs/index.pyx\u001b[0m in \u001b[0;36mpandas._libs.index.IndexEngine.get_loc\u001b[0;34m()\u001b[0m\n",
            "\u001b[0;32mpandas/_libs/hashtable_class_helper.pxi\u001b[0m in \u001b[0;36mpandas._libs.hashtable.PyObjectHashTable.get_item\u001b[0;34m()\u001b[0m\n",
            "\u001b[0;32mpandas/_libs/hashtable_class_helper.pxi\u001b[0m in \u001b[0;36mpandas._libs.hashtable.PyObjectHashTable.get_item\u001b[0;34m()\u001b[0m\n",
            "\u001b[0;31mKeyError\u001b[0m: 'GDP_capita '",
            "\nThe above exception was the direct cause of the following exception:\n",
            "\u001b[0;31mKeyError\u001b[0m                                  Traceback (most recent call last)",
            "\u001b[0;32m<ipython-input-21-771b0e1d9074>\u001b[0m in \u001b[0;36m<cell line: 1>\u001b[0;34m()\u001b[0m\n\u001b[0;32m----> 1\u001b[0;31m \u001b[0mvar1\u001b[0m \u001b[0;34m=\u001b[0m \u001b[0mdata\u001b[0m\u001b[0;34m[\u001b[0m\u001b[0;34m'GDP_capita '\u001b[0m\u001b[0;34m]\u001b[0m\u001b[0;34m\u001b[0m\u001b[0;34m\u001b[0m\u001b[0m\n\u001b[0m\u001b[1;32m      2\u001b[0m \u001b[0mvar2\u001b[0m \u001b[0;34m=\u001b[0m \u001b[0mdata\u001b[0m\u001b[0;34m[\u001b[0m\u001b[0;34m'GDP_growth'\u001b[0m\u001b[0;34m]\u001b[0m\u001b[0;34m\u001b[0m\u001b[0;34m\u001b[0m\u001b[0m\n\u001b[1;32m      3\u001b[0m \u001b[0;34m\u001b[0m\u001b[0m\n\u001b[1;32m      4\u001b[0m \u001b[0mfig\u001b[0m\u001b[0;34m,\u001b[0m \u001b[0max\u001b[0m \u001b[0;34m=\u001b[0m \u001b[0mplt\u001b[0m\u001b[0;34m.\u001b[0m\u001b[0msubplots\u001b[0m\u001b[0;34m(\u001b[0m\u001b[0;36m1\u001b[0m\u001b[0;34m,\u001b[0m \u001b[0;36m2\u001b[0m\u001b[0;34m,\u001b[0m \u001b[0mfigsize\u001b[0m\u001b[0;34m=\u001b[0m\u001b[0;34m(\u001b[0m\u001b[0;36m10\u001b[0m\u001b[0;34m,\u001b[0m\u001b[0;36m5\u001b[0m\u001b[0;34m)\u001b[0m\u001b[0;34m)\u001b[0m\u001b[0;34m\u001b[0m\u001b[0;34m\u001b[0m\u001b[0m\n\u001b[1;32m      5\u001b[0m \u001b[0max\u001b[0m\u001b[0;34m[\u001b[0m\u001b[0;36m0\u001b[0m\u001b[0;34m]\u001b[0m\u001b[0;34m.\u001b[0m\u001b[0mhist\u001b[0m\u001b[0;34m(\u001b[0m\u001b[0mvar1\u001b[0m\u001b[0;34m)\u001b[0m\u001b[0;34m\u001b[0m\u001b[0;34m\u001b[0m\u001b[0m\n",
            "\u001b[0;32m/usr/local/lib/python3.10/dist-packages/pandas/core/frame.py\u001b[0m in \u001b[0;36m__getitem__\u001b[0;34m(self, key)\u001b[0m\n\u001b[1;32m   3805\u001b[0m             \u001b[0;32mif\u001b[0m \u001b[0mself\u001b[0m\u001b[0;34m.\u001b[0m\u001b[0mcolumns\u001b[0m\u001b[0;34m.\u001b[0m\u001b[0mnlevels\u001b[0m \u001b[0;34m>\u001b[0m \u001b[0;36m1\u001b[0m\u001b[0;34m:\u001b[0m\u001b[0;34m\u001b[0m\u001b[0;34m\u001b[0m\u001b[0m\n\u001b[1;32m   3806\u001b[0m                 \u001b[0;32mreturn\u001b[0m \u001b[0mself\u001b[0m\u001b[0;34m.\u001b[0m\u001b[0m_getitem_multilevel\u001b[0m\u001b[0;34m(\u001b[0m\u001b[0mkey\u001b[0m\u001b[0;34m)\u001b[0m\u001b[0;34m\u001b[0m\u001b[0;34m\u001b[0m\u001b[0m\n\u001b[0;32m-> 3807\u001b[0;31m             \u001b[0mindexer\u001b[0m \u001b[0;34m=\u001b[0m \u001b[0mself\u001b[0m\u001b[0;34m.\u001b[0m\u001b[0mcolumns\u001b[0m\u001b[0;34m.\u001b[0m\u001b[0mget_loc\u001b[0m\u001b[0;34m(\u001b[0m\u001b[0mkey\u001b[0m\u001b[0;34m)\u001b[0m\u001b[0;34m\u001b[0m\u001b[0;34m\u001b[0m\u001b[0m\n\u001b[0m\u001b[1;32m   3808\u001b[0m             \u001b[0;32mif\u001b[0m \u001b[0mis_integer\u001b[0m\u001b[0;34m(\u001b[0m\u001b[0mindexer\u001b[0m\u001b[0;34m)\u001b[0m\u001b[0;34m:\u001b[0m\u001b[0;34m\u001b[0m\u001b[0;34m\u001b[0m\u001b[0m\n\u001b[1;32m   3809\u001b[0m                 \u001b[0mindexer\u001b[0m \u001b[0;34m=\u001b[0m \u001b[0;34m[\u001b[0m\u001b[0mindexer\u001b[0m\u001b[0;34m]\u001b[0m\u001b[0;34m\u001b[0m\u001b[0;34m\u001b[0m\u001b[0m\n",
            "\u001b[0;32m/usr/local/lib/python3.10/dist-packages/pandas/core/indexes/base.py\u001b[0m in \u001b[0;36mget_loc\u001b[0;34m(self, key, method, tolerance)\u001b[0m\n\u001b[1;32m   3802\u001b[0m                 \u001b[0;32mreturn\u001b[0m \u001b[0mself\u001b[0m\u001b[0;34m.\u001b[0m\u001b[0m_engine\u001b[0m\u001b[0;34m.\u001b[0m\u001b[0mget_loc\u001b[0m\u001b[0;34m(\u001b[0m\u001b[0mcasted_key\u001b[0m\u001b[0;34m)\u001b[0m\u001b[0;34m\u001b[0m\u001b[0;34m\u001b[0m\u001b[0m\n\u001b[1;32m   3803\u001b[0m             \u001b[0;32mexcept\u001b[0m \u001b[0mKeyError\u001b[0m \u001b[0;32mas\u001b[0m \u001b[0merr\u001b[0m\u001b[0;34m:\u001b[0m\u001b[0;34m\u001b[0m\u001b[0;34m\u001b[0m\u001b[0m\n\u001b[0;32m-> 3804\u001b[0;31m                 \u001b[0;32mraise\u001b[0m \u001b[0mKeyError\u001b[0m\u001b[0;34m(\u001b[0m\u001b[0mkey\u001b[0m\u001b[0;34m)\u001b[0m \u001b[0;32mfrom\u001b[0m \u001b[0merr\u001b[0m\u001b[0;34m\u001b[0m\u001b[0;34m\u001b[0m\u001b[0m\n\u001b[0m\u001b[1;32m   3805\u001b[0m             \u001b[0;32mexcept\u001b[0m \u001b[0mTypeError\u001b[0m\u001b[0;34m:\u001b[0m\u001b[0;34m\u001b[0m\u001b[0;34m\u001b[0m\u001b[0m\n\u001b[1;32m   3806\u001b[0m                 \u001b[0;31m# If we have a listlike key, _check_indexing_error will raise\u001b[0m\u001b[0;34m\u001b[0m\u001b[0;34m\u001b[0m\u001b[0m\n",
            "\u001b[0;31mKeyError\u001b[0m: 'GDP_capita '"
          ]
        }
      ]
    },
    {
      "cell_type": "markdown",
      "source": [
        "ANOVA\n"
      ],
      "metadata": {
        "id": "rjTxW4JA-j_c"
      }
    },
    {
      "cell_type": "code",
      "metadata": {
        "id": "0_UBMJrc15hb",
        "colab": {
          "base_uri": "https://localhost:8080/"
        },
        "outputId": "021c0528-5ef3-4315-8bea-67a7b85e979b"
      },
      "source": [
        "import numpy as np\n",
        "import pandas as pd\n",
        "import matplotlib.pyplot as plt\n",
        "plt.style.use('seaborn')\n",
        "\n",
        "import scipy.stats as ss\n",
        "\n",
        "import matplotlib.gridspec as gridspec\n",
        "\n",
        "#!pip install statsmodels==0.10.0rc2 --pre\n",
        "import statsmodels.api as sm\n",
        "from statsmodels.formula.api import ols\n",
        "\n",
        "from statsmodels.stats.multicomp import MultiComparison\n"
      ],
      "execution_count": null,
      "outputs": [
        {
          "output_type": "stream",
          "name": "stderr",
          "text": [
            "<ipython-input-22-a157f7937225>:4: MatplotlibDeprecationWarning: The seaborn styles shipped by Matplotlib are deprecated since 3.6, as they no longer correspond to the styles shipped by seaborn. However, they will remain available as 'seaborn-v0_8-<style>'. Alternatively, directly use the seaborn API instead.\n",
            "  plt.style.use('seaborn')\n"
          ]
        }
      ]
    },
    {
      "cell_type": "code",
      "source": [
        "mt=data['Income_Tax'].describe()\n",
        "mt"
      ],
      "metadata": {
        "id": "N2yQ2nPKqixO",
        "colab": {
          "base_uri": "https://localhost:8080/"
        },
        "outputId": "8d49645a-80e7-4f86-def5-04d4d29135f7"
      },
      "execution_count": null,
      "outputs": [
        {
          "output_type": "execute_result",
          "data": {
            "text/plain": [
              "count    27.000000\n",
              "mean     21.918519\n",
              "std       8.776982\n",
              "min       9.000000\n",
              "25%      17.500000\n",
              "50%      21.700000\n",
              "75%      26.050000\n",
              "max      52.200000\n",
              "Name: Income_Tax, dtype: float64"
            ]
          },
          "metadata": {},
          "execution_count": 27
        }
      ]
    },
    {
      "cell_type": "code",
      "source": [
        "mt=data['GDP_capita'].describe()\n",
        "mt"
      ],
      "metadata": {
        "colab": {
          "base_uri": "https://localhost:8080/"
        },
        "id": "lKSOaVDr6sxL",
        "outputId": "81c46619-3bd1-40ac-e227-0c974e0c4e13"
      },
      "execution_count": null,
      "outputs": [
        {
          "output_type": "execute_result",
          "data": {
            "text/plain": [
              "count        27.000000\n",
              "mean      57185.851852\n",
              "std       25426.999171\n",
              "min       32233.000000\n",
              "25%       42518.500000\n",
              "50%       49265.000000\n",
              "75%       64655.000000\n",
              "max      143397.000000\n",
              "Name: GDP_capita, dtype: float64"
            ]
          },
          "metadata": {},
          "execution_count": 43
        }
      ]
    },
    {
      "cell_type": "code",
      "source": [
        "mt=data['GDP_growth'].describe()\n",
        "mt"
      ],
      "metadata": {
        "colab": {
          "base_uri": "https://localhost:8080/"
        },
        "id": "eqp2kYyJ6wj4",
        "outputId": "68ed6814-8ffd-42e9-c180-8b422febff9d"
      },
      "execution_count": null,
      "outputs": [
        {
          "output_type": "execute_result",
          "data": {
            "text/plain": [
              "count    27.000000\n",
              "mean      6.229630\n",
              "std       2.587517\n",
              "min       2.600000\n",
              "25%       4.900000\n",
              "50%       6.000000\n",
              "75%       6.950000\n",
              "max      13.600000\n",
              "Name: GDP_growth, dtype: float64"
            ]
          },
          "metadata": {},
          "execution_count": 44
        }
      ]
    },
    {
      "cell_type": "code",
      "source": [
        "mt=data['Unemployment '].describe()\n",
        "mt"
      ],
      "metadata": {
        "colab": {
          "base_uri": "https://localhost:8080/"
        },
        "id": "d4_-Q5eV6zJe",
        "outputId": "5aa6bd15-41e4-4051-b556-0c73e6413f3b"
      },
      "execution_count": null,
      "outputs": [
        {
          "output_type": "execute_result",
          "data": {
            "text/plain": [
              "count    27.000000\n",
              "mean     35.188985\n",
              "std      11.397225\n",
              "min      19.314583\n",
              "25%      27.664151\n",
              "50%      32.567796\n",
              "75%      41.392696\n",
              "max      62.914613\n",
              "Name: Unemployment , dtype: float64"
            ]
          },
          "metadata": {},
          "execution_count": 46
        }
      ]
    },
    {
      "cell_type": "code",
      "source": [
        "data['Tax_Group_3levels'] = np.where(data['Income_Tax'] < 17.5, 'L',\n",
        "                                      np.where(data['Income_Tax'] < 26.05, 'M', 'H'))"
      ],
      "metadata": {
        "id": "Yix2zPAs1cuw"
      },
      "execution_count": null,
      "outputs": []
    },
    {
      "cell_type": "code",
      "source": [
        "mu=data['Unemployment '].mean()"
      ],
      "metadata": {
        "id": "bCF5Zr8FsCfE"
      },
      "execution_count": null,
      "outputs": []
    },
    {
      "cell_type": "code",
      "source": [
        "data['Unemployment_Group']=np.where(data['Unemployment ']<mu,'L','H')"
      ],
      "metadata": {
        "id": "_lExbrtZsVxE"
      },
      "execution_count": null,
      "outputs": []
    },
    {
      "cell_type": "code",
      "source": [
        "mg=data['GDP_capita'].mean()"
      ],
      "metadata": {
        "id": "xsslOgcFgE1F"
      },
      "execution_count": null,
      "outputs": []
    },
    {
      "cell_type": "code",
      "source": [
        "data['GDP_Group']=np.where(data['GDP_capita']<mg,'L','H')"
      ],
      "metadata": {
        "id": "Kzlub9QT4LiD"
      },
      "execution_count": null,
      "outputs": []
    },
    {
      "cell_type": "code",
      "source": [
        "data()"
      ],
      "metadata": {
        "colab": {
          "base_uri": "https://localhost:8080/",
          "height": 166
        },
        "id": "Q18-fE75scyj",
        "outputId": "ca7002f4-984d-4b78-913f-cd10cb355f24"
      },
      "execution_count": null,
      "outputs": [
        {
          "output_type": "error",
          "ename": "TypeError",
          "evalue": "ignored",
          "traceback": [
            "\u001b[0;31m---------------------------------------------------------------------------\u001b[0m",
            "\u001b[0;31mTypeError\u001b[0m                                 Traceback (most recent call last)",
            "\u001b[0;32m<ipython-input-47-a28c71a07a91>\u001b[0m in \u001b[0;36m<cell line: 1>\u001b[0;34m()\u001b[0m\n\u001b[0;32m----> 1\u001b[0;31m \u001b[0mdata\u001b[0m\u001b[0;34m(\u001b[0m\u001b[0;34m)\u001b[0m\u001b[0;34m\u001b[0m\u001b[0;34m\u001b[0m\u001b[0m\n\u001b[0m",
            "\u001b[0;31mTypeError\u001b[0m: 'DataFrame' object is not callable"
          ]
        }
      ]
    },
    {
      "cell_type": "code",
      "source": [
        "model = ols('GDP_growth~C(Tax_Group_3levels)*C(Unemployment_Group)', data=data).fit()\n",
        "table = sm.stats.anova_lm(model)\n",
        "table"
      ],
      "metadata": {
        "colab": {
          "base_uri": "https://localhost:8080/",
          "height": 175
        },
        "id": "9T2EHrgzsvYm",
        "outputId": "fc04b125-8d62-4072-a5ed-f7da129782ac"
      },
      "execution_count": null,
      "outputs": [
        {
          "output_type": "execute_result",
          "data": {
            "text/plain": [
              "                                              df      sum_sq    mean_sq  \\\n",
              "C(Tax_Group_3levels)                         2.0    1.987725   0.993862   \n",
              "C(Unemployment_Group)                        1.0   17.880944  17.880944   \n",
              "C(Tax_Group_3levels):C(Unemployment_Group)   2.0    5.955008   2.977504   \n",
              "Residual                                    21.0  148.252619   7.059649   \n",
              "\n",
              "                                                   F    PR(>F)  \n",
              "C(Tax_Group_3levels)                        0.140781  0.869493  \n",
              "C(Unemployment_Group)                       2.532838  0.126442  \n",
              "C(Tax_Group_3levels):C(Unemployment_Group)  0.421764  0.661323  \n",
              "Residual                                         NaN       NaN  "
            ],
            "text/html": [
              "\n",
              "  <div id=\"df-5cd40866-50ea-4ddc-9cca-1e95345589eb\">\n",
              "    <div class=\"colab-df-container\">\n",
              "      <div>\n",
              "<style scoped>\n",
              "    .dataframe tbody tr th:only-of-type {\n",
              "        vertical-align: middle;\n",
              "    }\n",
              "\n",
              "    .dataframe tbody tr th {\n",
              "        vertical-align: top;\n",
              "    }\n",
              "\n",
              "    .dataframe thead th {\n",
              "        text-align: right;\n",
              "    }\n",
              "</style>\n",
              "<table border=\"1\" class=\"dataframe\">\n",
              "  <thead>\n",
              "    <tr style=\"text-align: right;\">\n",
              "      <th></th>\n",
              "      <th>df</th>\n",
              "      <th>sum_sq</th>\n",
              "      <th>mean_sq</th>\n",
              "      <th>F</th>\n",
              "      <th>PR(&gt;F)</th>\n",
              "    </tr>\n",
              "  </thead>\n",
              "  <tbody>\n",
              "    <tr>\n",
              "      <th>C(Tax_Group_3levels)</th>\n",
              "      <td>2.0</td>\n",
              "      <td>1.987725</td>\n",
              "      <td>0.993862</td>\n",
              "      <td>0.140781</td>\n",
              "      <td>0.869493</td>\n",
              "    </tr>\n",
              "    <tr>\n",
              "      <th>C(Unemployment_Group)</th>\n",
              "      <td>1.0</td>\n",
              "      <td>17.880944</td>\n",
              "      <td>17.880944</td>\n",
              "      <td>2.532838</td>\n",
              "      <td>0.126442</td>\n",
              "    </tr>\n",
              "    <tr>\n",
              "      <th>C(Tax_Group_3levels):C(Unemployment_Group)</th>\n",
              "      <td>2.0</td>\n",
              "      <td>5.955008</td>\n",
              "      <td>2.977504</td>\n",
              "      <td>0.421764</td>\n",
              "      <td>0.661323</td>\n",
              "    </tr>\n",
              "    <tr>\n",
              "      <th>Residual</th>\n",
              "      <td>21.0</td>\n",
              "      <td>148.252619</td>\n",
              "      <td>7.059649</td>\n",
              "      <td>NaN</td>\n",
              "      <td>NaN</td>\n",
              "    </tr>\n",
              "  </tbody>\n",
              "</table>\n",
              "</div>\n",
              "      <button class=\"colab-df-convert\" onclick=\"convertToInteractive('df-5cd40866-50ea-4ddc-9cca-1e95345589eb')\"\n",
              "              title=\"Convert this dataframe to an interactive table.\"\n",
              "              style=\"display:none;\">\n",
              "        \n",
              "  <svg xmlns=\"http://www.w3.org/2000/svg\" height=\"24px\"viewBox=\"0 0 24 24\"\n",
              "       width=\"24px\">\n",
              "    <path d=\"M0 0h24v24H0V0z\" fill=\"none\"/>\n",
              "    <path d=\"M18.56 5.44l.94 2.06.94-2.06 2.06-.94-2.06-.94-.94-2.06-.94 2.06-2.06.94zm-11 1L8.5 8.5l.94-2.06 2.06-.94-2.06-.94L8.5 2.5l-.94 2.06-2.06.94zm10 10l.94 2.06.94-2.06 2.06-.94-2.06-.94-.94-2.06-.94 2.06-2.06.94z\"/><path d=\"M17.41 7.96l-1.37-1.37c-.4-.4-.92-.59-1.43-.59-.52 0-1.04.2-1.43.59L10.3 9.45l-7.72 7.72c-.78.78-.78 2.05 0 2.83L4 21.41c.39.39.9.59 1.41.59.51 0 1.02-.2 1.41-.59l7.78-7.78 2.81-2.81c.8-.78.8-2.07 0-2.86zM5.41 20L4 18.59l7.72-7.72 1.47 1.35L5.41 20z\"/>\n",
              "  </svg>\n",
              "      </button>\n",
              "      \n",
              "  <style>\n",
              "    .colab-df-container {\n",
              "      display:flex;\n",
              "      flex-wrap:wrap;\n",
              "      gap: 12px;\n",
              "    }\n",
              "\n",
              "    .colab-df-convert {\n",
              "      background-color: #E8F0FE;\n",
              "      border: none;\n",
              "      border-radius: 50%;\n",
              "      cursor: pointer;\n",
              "      display: none;\n",
              "      fill: #1967D2;\n",
              "      height: 32px;\n",
              "      padding: 0 0 0 0;\n",
              "      width: 32px;\n",
              "    }\n",
              "\n",
              "    .colab-df-convert:hover {\n",
              "      background-color: #E2EBFA;\n",
              "      box-shadow: 0px 1px 2px rgba(60, 64, 67, 0.3), 0px 1px 3px 1px rgba(60, 64, 67, 0.15);\n",
              "      fill: #174EA6;\n",
              "    }\n",
              "\n",
              "    [theme=dark] .colab-df-convert {\n",
              "      background-color: #3B4455;\n",
              "      fill: #D2E3FC;\n",
              "    }\n",
              "\n",
              "    [theme=dark] .colab-df-convert:hover {\n",
              "      background-color: #434B5C;\n",
              "      box-shadow: 0px 1px 3px 1px rgba(0, 0, 0, 0.15);\n",
              "      filter: drop-shadow(0px 1px 2px rgba(0, 0, 0, 0.3));\n",
              "      fill: #FFFFFF;\n",
              "    }\n",
              "  </style>\n",
              "\n",
              "      <script>\n",
              "        const buttonEl =\n",
              "          document.querySelector('#df-5cd40866-50ea-4ddc-9cca-1e95345589eb button.colab-df-convert');\n",
              "        buttonEl.style.display =\n",
              "          google.colab.kernel.accessAllowed ? 'block' : 'none';\n",
              "\n",
              "        async function convertToInteractive(key) {\n",
              "          const element = document.querySelector('#df-5cd40866-50ea-4ddc-9cca-1e95345589eb');\n",
              "          const dataTable =\n",
              "            await google.colab.kernel.invokeFunction('convertToInteractive',\n",
              "                                                     [key], {});\n",
              "          if (!dataTable) return;\n",
              "\n",
              "          const docLinkHtml = 'Like what you see? Visit the ' +\n",
              "            '<a target=\"_blank\" href=https://colab.research.google.com/notebooks/data_table.ipynb>data table notebook</a>'\n",
              "            + ' to learn more about interactive tables.';\n",
              "          element.innerHTML = '';\n",
              "          dataTable['output_type'] = 'display_data';\n",
              "          await google.colab.output.renderOutput(dataTable, element);\n",
              "          const docLink = document.createElement('div');\n",
              "          docLink.innerHTML = docLinkHtml;\n",
              "          element.appendChild(docLink);\n",
              "        }\n",
              "      </script>\n",
              "    </div>\n",
              "  </div>\n",
              "  "
            ]
          },
          "metadata": {},
          "execution_count": 41
        }
      ]
    },
    {
      "cell_type": "code",
      "source": [
        "model = ols('GDP_capita~C(Tax_Group_3levels)*C(Unemployment_Group)', data=data).fit()\n",
        "table = sm.stats.anova_lm(model)\n",
        "table"
      ],
      "metadata": {
        "colab": {
          "base_uri": "https://localhost:8080/",
          "height": 175
        },
        "id": "evJn8BaEgNE6",
        "outputId": "07ba75b4-c0b8-4e0a-acf9-6ed077a2ee86"
      },
      "execution_count": null,
      "outputs": [
        {
          "output_type": "execute_result",
          "data": {
            "text/plain": [
              "                                              df        sum_sq       mean_sq  \\\n",
              "C(Tax_Group_3levels)                         2.0  8.114487e+09  4.057244e+09   \n",
              "C(Unemployment_Group)                        1.0  6.398072e+08  6.398072e+08   \n",
              "C(Tax_Group_3levels):C(Unemployment_Group)   2.0  1.700783e+09  8.503917e+08   \n",
              "Residual                                    21.0  6.354762e+09  3.026077e+08   \n",
              "\n",
              "                                                    F    PR(>F)  \n",
              "C(Tax_Group_3levels)                        13.407602  0.000177  \n",
              "C(Unemployment_Group)                        2.114312  0.160711  \n",
              "C(Tax_Group_3levels):C(Unemployment_Group)   2.810212  0.082898  \n",
              "Residual                                          NaN       NaN  "
            ],
            "text/html": [
              "\n",
              "  <div id=\"df-612c0f80-c079-4afa-9ac9-d4733fd5cbb7\">\n",
              "    <div class=\"colab-df-container\">\n",
              "      <div>\n",
              "<style scoped>\n",
              "    .dataframe tbody tr th:only-of-type {\n",
              "        vertical-align: middle;\n",
              "    }\n",
              "\n",
              "    .dataframe tbody tr th {\n",
              "        vertical-align: top;\n",
              "    }\n",
              "\n",
              "    .dataframe thead th {\n",
              "        text-align: right;\n",
              "    }\n",
              "</style>\n",
              "<table border=\"1\" class=\"dataframe\">\n",
              "  <thead>\n",
              "    <tr style=\"text-align: right;\">\n",
              "      <th></th>\n",
              "      <th>df</th>\n",
              "      <th>sum_sq</th>\n",
              "      <th>mean_sq</th>\n",
              "      <th>F</th>\n",
              "      <th>PR(&gt;F)</th>\n",
              "    </tr>\n",
              "  </thead>\n",
              "  <tbody>\n",
              "    <tr>\n",
              "      <th>C(Tax_Group_3levels)</th>\n",
              "      <td>2.0</td>\n",
              "      <td>8.114487e+09</td>\n",
              "      <td>4.057244e+09</td>\n",
              "      <td>13.407602</td>\n",
              "      <td>0.000177</td>\n",
              "    </tr>\n",
              "    <tr>\n",
              "      <th>C(Unemployment_Group)</th>\n",
              "      <td>1.0</td>\n",
              "      <td>6.398072e+08</td>\n",
              "      <td>6.398072e+08</td>\n",
              "      <td>2.114312</td>\n",
              "      <td>0.160711</td>\n",
              "    </tr>\n",
              "    <tr>\n",
              "      <th>C(Tax_Group_3levels):C(Unemployment_Group)</th>\n",
              "      <td>2.0</td>\n",
              "      <td>1.700783e+09</td>\n",
              "      <td>8.503917e+08</td>\n",
              "      <td>2.810212</td>\n",
              "      <td>0.082898</td>\n",
              "    </tr>\n",
              "    <tr>\n",
              "      <th>Residual</th>\n",
              "      <td>21.0</td>\n",
              "      <td>6.354762e+09</td>\n",
              "      <td>3.026077e+08</td>\n",
              "      <td>NaN</td>\n",
              "      <td>NaN</td>\n",
              "    </tr>\n",
              "  </tbody>\n",
              "</table>\n",
              "</div>\n",
              "      <button class=\"colab-df-convert\" onclick=\"convertToInteractive('df-612c0f80-c079-4afa-9ac9-d4733fd5cbb7')\"\n",
              "              title=\"Convert this dataframe to an interactive table.\"\n",
              "              style=\"display:none;\">\n",
              "        \n",
              "  <svg xmlns=\"http://www.w3.org/2000/svg\" height=\"24px\"viewBox=\"0 0 24 24\"\n",
              "       width=\"24px\">\n",
              "    <path d=\"M0 0h24v24H0V0z\" fill=\"none\"/>\n",
              "    <path d=\"M18.56 5.44l.94 2.06.94-2.06 2.06-.94-2.06-.94-.94-2.06-.94 2.06-2.06.94zm-11 1L8.5 8.5l.94-2.06 2.06-.94-2.06-.94L8.5 2.5l-.94 2.06-2.06.94zm10 10l.94 2.06.94-2.06 2.06-.94-2.06-.94-.94-2.06-.94 2.06-2.06.94z\"/><path d=\"M17.41 7.96l-1.37-1.37c-.4-.4-.92-.59-1.43-.59-.52 0-1.04.2-1.43.59L10.3 9.45l-7.72 7.72c-.78.78-.78 2.05 0 2.83L4 21.41c.39.39.9.59 1.41.59.51 0 1.02-.2 1.41-.59l7.78-7.78 2.81-2.81c.8-.78.8-2.07 0-2.86zM5.41 20L4 18.59l7.72-7.72 1.47 1.35L5.41 20z\"/>\n",
              "  </svg>\n",
              "      </button>\n",
              "      \n",
              "  <style>\n",
              "    .colab-df-container {\n",
              "      display:flex;\n",
              "      flex-wrap:wrap;\n",
              "      gap: 12px;\n",
              "    }\n",
              "\n",
              "    .colab-df-convert {\n",
              "      background-color: #E8F0FE;\n",
              "      border: none;\n",
              "      border-radius: 50%;\n",
              "      cursor: pointer;\n",
              "      display: none;\n",
              "      fill: #1967D2;\n",
              "      height: 32px;\n",
              "      padding: 0 0 0 0;\n",
              "      width: 32px;\n",
              "    }\n",
              "\n",
              "    .colab-df-convert:hover {\n",
              "      background-color: #E2EBFA;\n",
              "      box-shadow: 0px 1px 2px rgba(60, 64, 67, 0.3), 0px 1px 3px 1px rgba(60, 64, 67, 0.15);\n",
              "      fill: #174EA6;\n",
              "    }\n",
              "\n",
              "    [theme=dark] .colab-df-convert {\n",
              "      background-color: #3B4455;\n",
              "      fill: #D2E3FC;\n",
              "    }\n",
              "\n",
              "    [theme=dark] .colab-df-convert:hover {\n",
              "      background-color: #434B5C;\n",
              "      box-shadow: 0px 1px 3px 1px rgba(0, 0, 0, 0.15);\n",
              "      filter: drop-shadow(0px 1px 2px rgba(0, 0, 0, 0.3));\n",
              "      fill: #FFFFFF;\n",
              "    }\n",
              "  </style>\n",
              "\n",
              "      <script>\n",
              "        const buttonEl =\n",
              "          document.querySelector('#df-612c0f80-c079-4afa-9ac9-d4733fd5cbb7 button.colab-df-convert');\n",
              "        buttonEl.style.display =\n",
              "          google.colab.kernel.accessAllowed ? 'block' : 'none';\n",
              "\n",
              "        async function convertToInteractive(key) {\n",
              "          const element = document.querySelector('#df-612c0f80-c079-4afa-9ac9-d4733fd5cbb7');\n",
              "          const dataTable =\n",
              "            await google.colab.kernel.invokeFunction('convertToInteractive',\n",
              "                                                     [key], {});\n",
              "          if (!dataTable) return;\n",
              "\n",
              "          const docLinkHtml = 'Like what you see? Visit the ' +\n",
              "            '<a target=\"_blank\" href=https://colab.research.google.com/notebooks/data_table.ipynb>data table notebook</a>'\n",
              "            + ' to learn more about interactive tables.';\n",
              "          element.innerHTML = '';\n",
              "          dataTable['output_type'] = 'display_data';\n",
              "          await google.colab.output.renderOutput(dataTable, element);\n",
              "          const docLink = document.createElement('div');\n",
              "          docLink.innerHTML = docLinkHtml;\n",
              "          element.appendChild(docLink);\n",
              "        }\n",
              "      </script>\n",
              "    </div>\n",
              "  </div>\n",
              "  "
            ]
          },
          "metadata": {},
          "execution_count": 42
        }
      ]
    },
    {
      "cell_type": "code",
      "source": [],
      "metadata": {
        "id": "bU-IgRloxsC-"
      },
      "execution_count": null,
      "outputs": []
    }
  ]
}