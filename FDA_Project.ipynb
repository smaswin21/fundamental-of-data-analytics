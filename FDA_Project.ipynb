{
  "nbformat": 4,
  "nbformat_minor": 0,
  "metadata": {
    "colab": {
      "provenance": [],
      "include_colab_link": true
    },
    "kernelspec": {
      "name": "python3",
      "display_name": "Python 3"
    },
    "language_info": {
      "name": "python"
    }
  },
  "cells": [
    {
      "cell_type": "markdown",
      "metadata": {
        "id": "view-in-github",
        "colab_type": "text"
      },
      "source": [
        "<a href=\"https://colab.research.google.com/github/smaswin21/fundamental-of-data-analytics/blob/main/FDA_Project.ipynb\" target=\"_parent\"><img src=\"https://colab.research.google.com/assets/colab-badge.svg\" alt=\"Open In Colab\"/></a>"
      ]
    },
    {
      "cell_type": "markdown",
      "source": [
        "Importing Libraries"
      ],
      "metadata": {
        "id": "HtmOrl3MCj7_"
      }
    },
    {
      "cell_type": "code",
      "source": [
        "# Importing Libraries\n",
        "\n",
        "import numpy as np\n",
        "import pandas as pd\n",
        "import scipy.stats as ss\n",
        "import matplotlib.pyplot as plt\n",
        "import matplotlib.gridspec as gridspec\n",
        "%matplotlib inline\n",
        "\n",
        "plt.style.use('seaborn-whitegrid')\n",
        "\n",
        "from IPython.display import HTML\n",
        "from IPython.display import display, Image\n",
        "\n",
        "\n",
        "\n",
        "import statsmodels.stats.weightstats as smw\n",
        "import statsmodels.stats.proportion as smp\n",
        "# Using the CLT Theorem\n",
        "\n",
        "from scipy.stats import norm\n",
        "import pandas as pd\n",
        "import statsmodels.api as sm\n"
      ],
      "metadata": {
        "colab": {
          "base_uri": "https://localhost:8080/"
        },
        "id": "nDIUyLvjCkeM",
        "outputId": "55999ce3-1883-4e67-f08c-05708c585724"
      },
      "execution_count": 4,
      "outputs": [
        {
          "output_type": "stream",
          "name": "stderr",
          "text": [
            "<ipython-input-4-c67058516994>:10: MatplotlibDeprecationWarning: The seaborn styles shipped by Matplotlib are deprecated since 3.6, as they no longer correspond to the styles shipped by seaborn. However, they will remain available as 'seaborn-v0_8-<style>'. Alternatively, directly use the seaborn API instead.\n",
            "  plt.style.use('seaborn-whitegrid')\n"
          ]
        }
      ]
    },
    {
      "cell_type": "markdown",
      "source": [
        "Importing Google Colabs"
      ],
      "metadata": {
        "id": "D9eb9ExJKYai"
      }
    },
    {
      "cell_type": "code",
      "source": [
        "# Step 1 - import the dataset\n",
        "from google.colab import drive\n",
        "drive.mount('/content/drive')"
      ],
      "metadata": {
        "colab": {
          "base_uri": "https://localhost:8080/"
        },
        "id": "5W_tfso5Kc86",
        "outputId": "78d8c1ce-d164-4328-97f2-11068a7f784f"
      },
      "execution_count": 5,
      "outputs": [
        {
          "output_type": "stream",
          "name": "stdout",
          "text": [
            "Drive already mounted at /content/drive; to attempt to forcibly remount, call drive.mount(\"/content/drive\", force_remount=True).\n"
          ]
        }
      ]
    },
    {
      "cell_type": "markdown",
      "source": [
        "Independent Variables : Income_Tax, Unemployment.  \n",
        "\n",
        "Dependent Variables : GDP_capita"
      ],
      "metadata": {
        "id": "tyLyNRbcRJGD"
      }
    },
    {
      "cell_type": "markdown",
      "source": [
        "Independent Variables : Income_Tax, Unemployment.  \n",
        "\n",
        "Dependent Variables : GDP_Growth"
      ],
      "metadata": {
        "id": "FS1KNrTaUnMq"
      }
    },
    {
      "cell_type": "markdown",
      "source": [
        "1. Introduction of dataset\n",
        "\n",
        "2. Looking into the data\n",
        "\n",
        "3. Univariate analysis\n",
        "\n",
        "- Probability Density Function\n",
        "- Cumulative Density Function\n",
        "- Box plot\n",
        "- Violin plot\n",
        "\n",
        "4. Bivariate analysis\n",
        "\n",
        "- Scatter plot\n",
        "- Pair plot\n",
        "\n",
        "5. Multivariate analysis\n",
        "\n",
        "- Contour plot"
      ],
      "metadata": {
        "id": "MXrCRAGLV-fK"
      }
    },
    {
      "cell_type": "code",
      "source": [
        "import pandas as pd\n",
        "path=\"/content/drive/MyDrive/FDA - Project /Datasets/fda_final.xlsx\"\n",
        "data = pd.read_excel(path)\n"
      ],
      "metadata": {
        "id": "9bjrFmtIKg4Q"
      },
      "execution_count": 6,
      "outputs": []
    },
    {
      "cell_type": "markdown",
      "source": [
        "Basics"
      ],
      "metadata": {
        "id": "MJHuEo2JWznc"
      }
    },
    {
      "cell_type": "code",
      "source": [
        "data.shape # This dataset has 27 data points and 4 features"
      ],
      "metadata": {
        "colab": {
          "base_uri": "https://localhost:8080/"
        },
        "id": "Nx7UDLkIUxIY",
        "outputId": "1fde26c1-8b65-431d-dbd5-3ef8a45fd347"
      },
      "execution_count": 7,
      "outputs": [
        {
          "output_type": "execute_result",
          "data": {
            "text/plain": [
              "(27, 5)"
            ]
          },
          "metadata": {},
          "execution_count": 7
        }
      ]
    },
    {
      "cell_type": "code",
      "source": [
        "print(data.head()) #"
      ],
      "metadata": {
        "colab": {
          "base_uri": "https://localhost:8080/"
        },
        "id": "ZhaCdLOHWOkn",
        "outputId": "3d02a0c5-ba99-4e98-8837-332027efaa0e"
      },
      "execution_count": 8,
      "outputs": [
        {
          "output_type": "stream",
          "name": "stdout",
          "text": [
            "   Country   GDP_growth  Income_Tax  GDP_capita  Unemployment \n",
            "0   Austria         4.6        22.4       68775      31.523942\n",
            "1   Belgium         6.1        26.7       65818      42.296179\n",
            "2  Bulgaria         7.6        10.3       32233      28.248467\n",
            "3   Croatia        13.1        20.1       40214      20.285690\n",
            "4    Cyprus         6.6        19.7       43318      24.156616\n"
          ]
        }
      ]
    },
    {
      "cell_type": "code",
      "source": [
        "data['Serial_no'] = range(1, 28)\n",
        "data.head()"
      ],
      "metadata": {
        "colab": {
          "base_uri": "https://localhost:8080/",
          "height": 206
        },
        "id": "uqB2bPbeh5DS",
        "outputId": "d5a805b7-cfb6-4a46-cb70-b0b47413413e"
      },
      "execution_count": 9,
      "outputs": [
        {
          "output_type": "execute_result",
          "data": {
            "text/plain": [
              "   Country   GDP_growth  Income_Tax  GDP_capita  Unemployment   Serial_no\n",
              "0   Austria         4.6        22.4       68775      31.523942          1\n",
              "1   Belgium         6.1        26.7       65818      42.296179          2\n",
              "2  Bulgaria         7.6        10.3       32233      28.248467          3\n",
              "3   Croatia        13.1        20.1       40214      20.285690          4\n",
              "4    Cyprus         6.6        19.7       43318      24.156616          5"
            ],
            "text/html": [
              "\n",
              "\n",
              "  <div id=\"df-177bf82c-4072-4403-94d4-b03062f21f3b\">\n",
              "    <div class=\"colab-df-container\">\n",
              "      <div>\n",
              "<style scoped>\n",
              "    .dataframe tbody tr th:only-of-type {\n",
              "        vertical-align: middle;\n",
              "    }\n",
              "\n",
              "    .dataframe tbody tr th {\n",
              "        vertical-align: top;\n",
              "    }\n",
              "\n",
              "    .dataframe thead th {\n",
              "        text-align: right;\n",
              "    }\n",
              "</style>\n",
              "<table border=\"1\" class=\"dataframe\">\n",
              "  <thead>\n",
              "    <tr style=\"text-align: right;\">\n",
              "      <th></th>\n",
              "      <th>Country</th>\n",
              "      <th>GDP_growth</th>\n",
              "      <th>Income_Tax</th>\n",
              "      <th>GDP_capita</th>\n",
              "      <th>Unemployment</th>\n",
              "      <th>Serial_no</th>\n",
              "    </tr>\n",
              "  </thead>\n",
              "  <tbody>\n",
              "    <tr>\n",
              "      <th>0</th>\n",
              "      <td>Austria</td>\n",
              "      <td>4.6</td>\n",
              "      <td>22.4</td>\n",
              "      <td>68775</td>\n",
              "      <td>31.523942</td>\n",
              "      <td>1</td>\n",
              "    </tr>\n",
              "    <tr>\n",
              "      <th>1</th>\n",
              "      <td>Belgium</td>\n",
              "      <td>6.1</td>\n",
              "      <td>26.7</td>\n",
              "      <td>65818</td>\n",
              "      <td>42.296179</td>\n",
              "      <td>2</td>\n",
              "    </tr>\n",
              "    <tr>\n",
              "      <th>2</th>\n",
              "      <td>Bulgaria</td>\n",
              "      <td>7.6</td>\n",
              "      <td>10.3</td>\n",
              "      <td>32233</td>\n",
              "      <td>28.248467</td>\n",
              "      <td>3</td>\n",
              "    </tr>\n",
              "    <tr>\n",
              "      <th>3</th>\n",
              "      <td>Croatia</td>\n",
              "      <td>13.1</td>\n",
              "      <td>20.1</td>\n",
              "      <td>40214</td>\n",
              "      <td>20.285690</td>\n",
              "      <td>4</td>\n",
              "    </tr>\n",
              "    <tr>\n",
              "      <th>4</th>\n",
              "      <td>Cyprus</td>\n",
              "      <td>6.6</td>\n",
              "      <td>19.7</td>\n",
              "      <td>43318</td>\n",
              "      <td>24.156616</td>\n",
              "      <td>5</td>\n",
              "    </tr>\n",
              "  </tbody>\n",
              "</table>\n",
              "</div>\n",
              "      <button class=\"colab-df-convert\" onclick=\"convertToInteractive('df-177bf82c-4072-4403-94d4-b03062f21f3b')\"\n",
              "              title=\"Convert this dataframe to an interactive table.\"\n",
              "              style=\"display:none;\">\n",
              "\n",
              "  <svg xmlns=\"http://www.w3.org/2000/svg\" height=\"24px\"viewBox=\"0 0 24 24\"\n",
              "       width=\"24px\">\n",
              "    <path d=\"M0 0h24v24H0V0z\" fill=\"none\"/>\n",
              "    <path d=\"M18.56 5.44l.94 2.06.94-2.06 2.06-.94-2.06-.94-.94-2.06-.94 2.06-2.06.94zm-11 1L8.5 8.5l.94-2.06 2.06-.94-2.06-.94L8.5 2.5l-.94 2.06-2.06.94zm10 10l.94 2.06.94-2.06 2.06-.94-2.06-.94-.94-2.06-.94 2.06-2.06.94z\"/><path d=\"M17.41 7.96l-1.37-1.37c-.4-.4-.92-.59-1.43-.59-.52 0-1.04.2-1.43.59L10.3 9.45l-7.72 7.72c-.78.78-.78 2.05 0 2.83L4 21.41c.39.39.9.59 1.41.59.51 0 1.02-.2 1.41-.59l7.78-7.78 2.81-2.81c.8-.78.8-2.07 0-2.86zM5.41 20L4 18.59l7.72-7.72 1.47 1.35L5.41 20z\"/>\n",
              "  </svg>\n",
              "      </button>\n",
              "\n",
              "\n",
              "\n",
              "    <div id=\"df-f6c62a8e-adf7-41a0-89f9-33d4a60d58f3\">\n",
              "      <button class=\"colab-df-quickchart\" onclick=\"quickchart('df-f6c62a8e-adf7-41a0-89f9-33d4a60d58f3')\"\n",
              "              title=\"Suggest charts.\"\n",
              "              style=\"display:none;\">\n",
              "\n",
              "<svg xmlns=\"http://www.w3.org/2000/svg\" height=\"24px\"viewBox=\"0 0 24 24\"\n",
              "     width=\"24px\">\n",
              "    <g>\n",
              "        <path d=\"M19 3H5c-1.1 0-2 .9-2 2v14c0 1.1.9 2 2 2h14c1.1 0 2-.9 2-2V5c0-1.1-.9-2-2-2zM9 17H7v-7h2v7zm4 0h-2V7h2v10zm4 0h-2v-4h2v4z\"/>\n",
              "    </g>\n",
              "</svg>\n",
              "      </button>\n",
              "    </div>\n",
              "\n",
              "<style>\n",
              "  .colab-df-quickchart {\n",
              "    background-color: #E8F0FE;\n",
              "    border: none;\n",
              "    border-radius: 50%;\n",
              "    cursor: pointer;\n",
              "    display: none;\n",
              "    fill: #1967D2;\n",
              "    height: 32px;\n",
              "    padding: 0 0 0 0;\n",
              "    width: 32px;\n",
              "  }\n",
              "\n",
              "  .colab-df-quickchart:hover {\n",
              "    background-color: #E2EBFA;\n",
              "    box-shadow: 0px 1px 2px rgba(60, 64, 67, 0.3), 0px 1px 3px 1px rgba(60, 64, 67, 0.15);\n",
              "    fill: #174EA6;\n",
              "  }\n",
              "\n",
              "  [theme=dark] .colab-df-quickchart {\n",
              "    background-color: #3B4455;\n",
              "    fill: #D2E3FC;\n",
              "  }\n",
              "\n",
              "  [theme=dark] .colab-df-quickchart:hover {\n",
              "    background-color: #434B5C;\n",
              "    box-shadow: 0px 1px 3px 1px rgba(0, 0, 0, 0.15);\n",
              "    filter: drop-shadow(0px 1px 2px rgba(0, 0, 0, 0.3));\n",
              "    fill: #FFFFFF;\n",
              "  }\n",
              "</style>\n",
              "\n",
              "    <script>\n",
              "      async function quickchart(key) {\n",
              "        const containerElement = document.querySelector('#' + key);\n",
              "        const charts = await google.colab.kernel.invokeFunction(\n",
              "            'suggestCharts', [key], {});\n",
              "      }\n",
              "    </script>\n",
              "\n",
              "      <script>\n",
              "\n",
              "function displayQuickchartButton(domScope) {\n",
              "  let quickchartButtonEl =\n",
              "    domScope.querySelector('#df-f6c62a8e-adf7-41a0-89f9-33d4a60d58f3 button.colab-df-quickchart');\n",
              "  quickchartButtonEl.style.display =\n",
              "    google.colab.kernel.accessAllowed ? 'block' : 'none';\n",
              "}\n",
              "\n",
              "        displayQuickchartButton(document);\n",
              "      </script>\n",
              "      <style>\n",
              "    .colab-df-container {\n",
              "      display:flex;\n",
              "      flex-wrap:wrap;\n",
              "      gap: 12px;\n",
              "    }\n",
              "\n",
              "    .colab-df-convert {\n",
              "      background-color: #E8F0FE;\n",
              "      border: none;\n",
              "      border-radius: 50%;\n",
              "      cursor: pointer;\n",
              "      display: none;\n",
              "      fill: #1967D2;\n",
              "      height: 32px;\n",
              "      padding: 0 0 0 0;\n",
              "      width: 32px;\n",
              "    }\n",
              "\n",
              "    .colab-df-convert:hover {\n",
              "      background-color: #E2EBFA;\n",
              "      box-shadow: 0px 1px 2px rgba(60, 64, 67, 0.3), 0px 1px 3px 1px rgba(60, 64, 67, 0.15);\n",
              "      fill: #174EA6;\n",
              "    }\n",
              "\n",
              "    [theme=dark] .colab-df-convert {\n",
              "      background-color: #3B4455;\n",
              "      fill: #D2E3FC;\n",
              "    }\n",
              "\n",
              "    [theme=dark] .colab-df-convert:hover {\n",
              "      background-color: #434B5C;\n",
              "      box-shadow: 0px 1px 3px 1px rgba(0, 0, 0, 0.15);\n",
              "      filter: drop-shadow(0px 1px 2px rgba(0, 0, 0, 0.3));\n",
              "      fill: #FFFFFF;\n",
              "    }\n",
              "  </style>\n",
              "\n",
              "      <script>\n",
              "        const buttonEl =\n",
              "          document.querySelector('#df-177bf82c-4072-4403-94d4-b03062f21f3b button.colab-df-convert');\n",
              "        buttonEl.style.display =\n",
              "          google.colab.kernel.accessAllowed ? 'block' : 'none';\n",
              "\n",
              "        async function convertToInteractive(key) {\n",
              "          const element = document.querySelector('#df-177bf82c-4072-4403-94d4-b03062f21f3b');\n",
              "          const dataTable =\n",
              "            await google.colab.kernel.invokeFunction('convertToInteractive',\n",
              "                                                     [key], {});\n",
              "          if (!dataTable) return;\n",
              "\n",
              "          const docLinkHtml = 'Like what you see? Visit the ' +\n",
              "            '<a target=\"_blank\" href=https://colab.research.google.com/notebooks/data_table.ipynb>data table notebook</a>'\n",
              "            + ' to learn more about interactive tables.';\n",
              "          element.innerHTML = '';\n",
              "          dataTable['output_type'] = 'display_data';\n",
              "          await google.colab.output.renderOutput(dataTable, element);\n",
              "          const docLink = document.createElement('div');\n",
              "          docLink.innerHTML = docLinkHtml;\n",
              "          element.appendChild(docLink);\n",
              "        }\n",
              "      </script>\n",
              "    </div>\n",
              "  </div>\n"
            ]
          },
          "metadata": {},
          "execution_count": 9
        }
      ]
    },
    {
      "cell_type": "code",
      "source": [
        "print(data.columns)\n"
      ],
      "metadata": {
        "colab": {
          "base_uri": "https://localhost:8080/"
        },
        "id": "omQLxyFgiOwE",
        "outputId": "a8ba34da-15aa-4689-c9c6-47f3d1edc13d"
      },
      "execution_count": 10,
      "outputs": [
        {
          "output_type": "stream",
          "name": "stdout",
          "text": [
            "Index(['Country ', 'GDP_growth', 'Income_Tax', 'GDP_capita', 'Unemployment ',\n",
            "       'Serial_no'],\n",
            "      dtype='object')\n"
          ]
        }
      ]
    },
    {
      "cell_type": "markdown",
      "source": [
        "OUTLIERS\n"
      ],
      "metadata": {
        "id": "8m-mhmSoksdb"
      }
    },
    {
      "cell_type": "code",
      "source": [
        "import numpy as np\n",
        "import pandas as pd\n",
        "import matplotlib.pyplot as plt\n",
        "plt.style.use('seaborn')\n",
        "\n",
        "import scipy.stats as ss\n",
        "\n",
        "import matplotlib.gridspec as gridspec\n",
        "\n",
        "#!pip install statsmodels==0.10.0rc2 --pre\n",
        "import statsmodels.api as sm\n",
        "from statsmodels.formula.api import ols\n",
        "\n",
        "from statsmodels.stats.multicomp import MultiComparison"
      ],
      "metadata": {
        "colab": {
          "base_uri": "https://localhost:8080/"
        },
        "id": "DNjD1zX7ktyH",
        "outputId": "32f01145-ccfb-4e1c-cf83-87879a3be376"
      },
      "execution_count": 12,
      "outputs": [
        {
          "output_type": "stream",
          "name": "stderr",
          "text": [
            "<ipython-input-12-a157f7937225>:4: MatplotlibDeprecationWarning: The seaborn styles shipped by Matplotlib are deprecated since 3.6, as they no longer correspond to the styles shipped by seaborn. However, they will remain available as 'seaborn-v0_8-<style>'. Alternatively, directly use the seaborn API instead.\n",
            "  plt.style.use('seaborn')\n"
          ]
        }
      ]
    },
    {
      "cell_type": "code",
      "source": [
        "import numpy as np\n",
        "import pandas as pd\n",
        "from scipy import stats\n",
        "\n",
        "# Assuming 'df' is your dataset stored in a pandas DataFrame\n",
        "# Assuming 'variable_names' is a list of the variable names you want to compute z-scores for\n",
        "\n",
        "# Select the columns for the specified variable names\n",
        "data_selected = data[[\"GDP_growth\", \"Income_Tax\", \"GDP_capita\", \"Unemployment \"]]\n",
        "\n",
        "# Compute z-scores for the selected columns\n",
        "data_z = np.abs(stats.zscore(data_selected))\n",
        "\n",
        "# You can convert the resulting array back to a DataFrame if needed\n",
        "data_z = pd.DataFrame(data_z, columns=[\"GDP_growth\", \"Income_Tax\", \"GDP_capita\", \"Unemployment\"])\n",
        "\n",
        "# Print the DataFrame with z-scores\n",
        "print(data_z)\n"
      ],
      "metadata": {
        "colab": {
          "base_uri": "https://localhost:8080/"
        },
        "id": "ECmWd5xGlGRO",
        "outputId": "048ce64d-e734-4534-be77-792acfe3a19e"
      },
      "execution_count": 16,
      "outputs": [
        {
          "output_type": "stream",
          "name": "stdout",
          "text": [
            "    GDP_growth  Income_Tax  GDP_capita  Unemployment\n",
            "0     0.641802    0.055902    0.464464           NaN\n",
            "1     0.051052    0.555153    0.345955           NaN\n",
            "2     0.539697    1.348965    1.000047           NaN\n",
            "3     2.705778    0.211139    0.680189           NaN\n",
            "4     0.145864    0.257581    0.555788           NaN\n",
            "5     1.075018    1.488291    0.289714           NaN\n",
            "6     0.523652    3.515824    0.712423           NaN\n",
            "7     0.697230    0.176307    0.379327           NaN\n",
            "8     1.271935    0.926688    0.105089           NaN\n",
            "9     0.224631    0.106644    0.059629           NaN\n",
            "10    1.429468    0.543542    0.277142           NaN\n",
            "11    0.854763    1.499901    0.800501           NaN\n",
            "12    0.342781    0.756831    0.581959           NaN\n",
            "13    2.902695    1.263392    2.851797           NaN\n",
            "14    0.185247    0.462269    0.189360           NaN\n",
            "15    0.838718    0.269191    0.661312           NaN\n",
            "16    0.090436    0.172007    0.317448           NaN\n",
            "17    0.444885    0.497100    3.455123           NaN\n",
            "18    0.027714    0.357775    0.339049           NaN\n",
            "19    0.523652    0.025371    0.552273           NaN\n",
            "20    0.224631    0.849715    0.544246           NaN\n",
            "21    0.287352    0.269191    0.594944           NaN\n",
            "22    0.444885    0.125565    0.593701           NaN\n",
            "23    1.271935    1.279302    0.820860           NaN\n",
            "24    0.775997    0.861325    0.259415           NaN\n",
            "25    0.287352    0.102344    0.418323           NaN\n",
            "26    0.444885    0.822194    0.321547           NaN\n"
          ]
        }
      ]
    },
    {
      "cell_type": "markdown",
      "source": [
        "# Central Measure Tendency"
      ],
      "metadata": {
        "id": "Di7Won5Zc9iS"
      }
    },
    {
      "cell_type": "code",
      "source": [
        "import pandas as pd\n",
        "\n",
        "# get a summary of the dataset\n",
        "print(data.describe())\n",
        "\n",
        "# get the correlation matrix of the dataset\n",
        "print(data.corr())"
      ],
      "metadata": {
        "colab": {
          "base_uri": "https://localhost:8080/"
        },
        "id": "6131cwDvdBv1",
        "outputId": "47e330a7-6b1a-4eb5-8ce6-5d72a996e515"
      },
      "execution_count": 17,
      "outputs": [
        {
          "output_type": "stream",
          "name": "stdout",
          "text": [
            "       GDP_growth  Income_Tax     GDP_capita  Unemployment   Serial_no\n",
            "count   27.000000   27.000000      27.000000      27.000000  27.000000\n",
            "mean     6.229630   21.918519   57185.851852      35.188985  14.000000\n",
            "std      2.587517    8.776982   25426.999171      11.397225   7.937254\n",
            "min      2.600000    9.000000   32233.000000      19.314583   1.000000\n",
            "25%      4.900000   17.500000   42518.500000      27.664151   7.500000\n",
            "50%      6.000000   21.700000   49265.000000      32.567796  14.000000\n",
            "75%      6.950000   26.050000   64655.000000      41.392696  20.500000\n",
            "max     13.600000   52.200000  143397.000000      62.914613  27.000000\n",
            "               GDP_growth  Income_Tax  GDP_capita  Unemployment   Serial_no\n",
            "GDP_growth       1.000000   -0.041737    0.133081      -0.307790  -0.162927\n",
            "Income_Tax      -0.041737    1.000000    0.519125       0.101849  -0.071827\n",
            "GDP_capita       0.133081    0.519125    1.000000      -0.211271   0.002123\n",
            "Unemployment    -0.307790    0.101849   -0.211271       1.000000   0.062442\n",
            "Serial_no       -0.162927   -0.071827    0.002123       0.062442   1.000000\n"
          ]
        },
        {
          "output_type": "stream",
          "name": "stderr",
          "text": [
            "<ipython-input-17-654b7aa23f65>:7: FutureWarning: The default value of numeric_only in DataFrame.corr is deprecated. In a future version, it will default to False. Select only valid columns or specify the value of numeric_only to silence this warning.\n",
            "  print(data.corr())\n"
          ]
        }
      ]
    },
    {
      "cell_type": "markdown",
      "source": [
        "1. GDP_growth"
      ],
      "metadata": {
        "id": "LWnfnFyxdLFN"
      }
    },
    {
      "cell_type": "code",
      "source": [
        "# get the mean and standard deviation of the GDP growth column\n",
        "mean = data['GDP_growth'].mean()\n",
        "std = data['GDP_growth'].std()\n",
        "mode = data[\"GDP_growth\"].mode()\n",
        "median = data[\"GDP_growth\"].median()\n",
        "\n",
        "print('Mean GDP growth:', mean)\n",
        "print('Standard deviation of GDP growth:', std)\n",
        "print('Mode of GDP growth:', mode)\n",
        "print('Median of GDP growth:', mode)"
      ],
      "metadata": {
        "colab": {
          "base_uri": "https://localhost:8080/"
        },
        "id": "8dwZR591dJQB",
        "outputId": "4129f1f2-4776-40ed-f464-67f6188aba4a"
      },
      "execution_count": 18,
      "outputs": [
        {
          "output_type": "stream",
          "name": "stdout",
          "text": [
            "Mean GDP growth: 6.229629629629629\n",
            "Standard deviation of GDP growth: 2.5875166019259015\n",
            "Mode of GDP growth: 0    5.1\n",
            "Name: GDP_growth, dtype: float64\n",
            "Median of GDP growth: 0    5.1\n",
            "Name: GDP_growth, dtype: float64\n"
          ]
        }
      ]
    },
    {
      "cell_type": "markdown",
      "source": [
        "2. Income_Tax"
      ],
      "metadata": {
        "id": "UohAleD3diZj"
      }
    },
    {
      "cell_type": "code",
      "source": [
        "mean = data['Income_Tax'].mean()\n",
        "std = data['Income_Tax'].std()\n",
        "mode = data[\"Income_Tax\"].mode()\n",
        "median = data[\"Income_Tax\"].median()\n",
        "\n",
        "print('Mean :', mean)\n",
        "print('Standard deviation :', std)\n",
        "print('Mode :', mode)\n",
        "print('Median :', median)"
      ],
      "metadata": {
        "colab": {
          "base_uri": "https://localhost:8080/"
        },
        "id": "3tSGULzSdjdf",
        "outputId": "9a23735a-cae1-49bb-bc67-0565970c1948"
      },
      "execution_count": 19,
      "outputs": [
        {
          "output_type": "stream",
          "name": "stdout",
          "text": [
            "Mean : 21.918518518518518\n",
            "Standard deviation : 8.776982004391549\n",
            "Mode : 0    19.6\n",
            "Name: Income_Tax, dtype: float64\n",
            "Median : 21.7\n"
          ]
        }
      ]
    },
    {
      "cell_type": "markdown",
      "source": [
        "3. Unemployment"
      ],
      "metadata": {
        "id": "Jcp36BzxdwyX"
      }
    },
    {
      "cell_type": "code",
      "source": [
        "mean = data['Unemployment '].mean()\n",
        "std = data['Unemployment '].std()\n",
        "mode = data['Unemployment '].mode()\n",
        "median = data['Unemployment '].median()\n",
        "\n",
        "print('Mean :', mean)\n",
        "print('Standard deviation :', std)\n",
        "\n",
        "print('Median :', median)"
      ],
      "metadata": {
        "colab": {
          "base_uri": "https://localhost:8080/"
        },
        "outputId": "ee3b2d56-8756-4ec5-c38d-a09e1a4192a1",
        "id": "ulMj42UIdyTA"
      },
      "execution_count": 20,
      "outputs": [
        {
          "output_type": "stream",
          "name": "stdout",
          "text": [
            "Mean : 35.1889849782751\n",
            "Standard deviation : 11.39722545357657\n",
            "Median : 32.5677960475731\n"
          ]
        }
      ]
    },
    {
      "cell_type": "markdown",
      "source": [
        "4. GDP_capita"
      ],
      "metadata": {
        "id": "AeaJoxare1OJ"
      }
    },
    {
      "cell_type": "code",
      "source": [
        "mean = data['GDP_capita'].mean()\n",
        "std = data['GDP_capita'].std()\n",
        "mode = data['GDP_capita'].mode()\n",
        "median = data['GDP_capita'].median()\n",
        "\n",
        "print('Mean :', mean)\n",
        "print('Standard deviation :', std)\n",
        "\n",
        "print('Median :', median)"
      ],
      "metadata": {
        "colab": {
          "base_uri": "https://localhost:8080/"
        },
        "id": "o-2dDIBKeIYi",
        "outputId": "a4546511-1ee0-4d3b-ec4e-a6cde7e886e6"
      },
      "execution_count": 21,
      "outputs": [
        {
          "output_type": "stream",
          "name": "stdout",
          "text": [
            "Mean : 57185.851851851854\n",
            "Standard deviation : 25426.999170632815\n",
            "Median : 49265.0\n"
          ]
        }
      ]
    },
    {
      "cell_type": "markdown",
      "source": [
        "Boxplots\n",
        "\n",
        "1. GDP Growth\n",
        "2. Income_Tax\n",
        "3. GDP_capita\n",
        "4. Unemployment"
      ],
      "metadata": {
        "id": "lqu1S5QWfqCn"
      }
    },
    {
      "cell_type": "code",
      "source": [
        "import seaborn as sns\n",
        "import matplotlib.pyplot as plt\n",
        "\n",
        "sns.boxplot(x=data['GDP_growth'])\n",
        "\n",
        "# set the plot title and axis labels\n",
        "plt.title('Box plot of GDP growth')\n",
        "plt.xlabel('GDP growth')\n",
        "\n",
        "# show the plot\n",
        "plt.show()"
      ],
      "metadata": {
        "colab": {
          "base_uri": "https://localhost:8080/",
          "height": 524
        },
        "id": "kpeziITwfqaC",
        "outputId": "e8f2c743-1a2f-4141-fdae-553290ff0c6b"
      },
      "execution_count": 22,
      "outputs": [
        {
          "output_type": "display_data",
          "data": {
            "text/plain": [
              "<Figure size 800x550 with 1 Axes>"
            ],
            "image/png": "[encoded data removed]"
          },
          "metadata": {}
        }
      ]
    },
    {
      "cell_type": "code",
      "source": [
        "sns.boxplot(x=data['Income_Tax'])\n",
        "\n",
        "# set the plot title and axis labels\n",
        "plt.title('Box plot of Income_Tax')\n",
        "plt.xlabel('Income_Tax')\n",
        "\n",
        "# show the plot\n",
        "plt.show()"
      ],
      "metadata": {
        "colab": {
          "base_uri": "https://localhost:8080/",
          "height": 524
        },
        "id": "J_5P8tFeg0Oo",
        "outputId": "c307ce7f-7398-49dc-f326-ef93fde6f431"
      },
      "execution_count": 23,
      "outputs": [
        {
          "output_type": "display_data",
          "data": {
            "text/plain": [
              "<Figure size 800x550 with 1 Axes>"
            ],
            "image/png": "[encoded data removed]"
          },
          "metadata": {}
        }
      ]
    },
    {
      "cell_type": "code",
      "source": [
        "sns.boxplot(x=data['GDP_capita'])\n",
        "\n",
        "# set the plot title and axis labels\n",
        "plt.title('Box plot of GDP_capita')\n",
        "plt.xlabel('GDP_capita ')\n",
        "\n",
        "# show the plot\n",
        "plt.show()"
      ],
      "metadata": {
        "colab": {
          "base_uri": "https://localhost:8080/",
          "height": 524
        },
        "id": "2Xv8R4XSg7IX",
        "outputId": "ef54a422-9e06-4f18-94ba-b2b5bf4e0901"
      },
      "execution_count": 24,
      "outputs": [
        {
          "output_type": "display_data",
          "data": {
            "text/plain": [
              "<Figure size 800x550 with 1 Axes>"
            ],
            "image/png": "[encoded data removed]"
          },
          "metadata": {}
        }
      ]
    },
    {
      "cell_type": "code",
      "source": [
        "sns.boxplot(x=data['Unemployment '])\n",
        "\n",
        "# set the plot title and axis labels\n",
        "plt.title('Box plot of Unemployment')\n",
        "plt.xlabel('Unemployment ')\n",
        "\n",
        "# show the plot\n",
        "plt.show()"
      ],
      "metadata": {
        "colab": {
          "base_uri": "https://localhost:8080/",
          "height": 524
        },
        "id": "Vc2geLQlhjWq",
        "outputId": "8ac0d31a-eb55-424b-b192-bdb3222f0fe5"
      },
      "execution_count": 25,
      "outputs": [
        {
          "output_type": "display_data",
          "data": {
            "text/plain": [
              "<Figure size 800x550 with 1 Axes>"
            ],
            "image/png": "[encoded data removed]"
          },
          "metadata": {}
        }
      ]
    },
    {
      "cell_type": "markdown",
      "source": [
        "Skew"
      ],
      "metadata": {
        "id": "DZrHRniEr2W8"
      }
    },
    {
      "cell_type": "code",
      "source": [
        "import pandas as pd\n",
        "import matplotlib.pyplot as plt\n",
        "import seaborn as sns\n",
        "\n",
        "\n",
        "# create a figure with two subplots\n",
        "fig, ax = plt.subplots(1, 2, figsize=(14, 6))\n",
        "\n",
        "# plot the histogram for 'Serial No'\n",
        "sns.histplot(data=data, x='GDP_growth', kde=True, ax=ax[0])\n",
        "ax[0].set_title('GDP Growth Skewness: {}'.format(data['GDP_growth'].skew()))\n",
        "\n",
        "# plot the histogram for 'GDP'\n",
        "sns.histplot(data=data, x='GDP_capita', kde=True, ax=ax[1])\n",
        "ax[1].set_title('GDP Capita Skewness: {}'.format(data['GDP_capita'].skew()))\n",
        "\n",
        "plt.tight_layout()\n",
        "plt.show()\n"
      ],
      "metadata": {
        "colab": {
          "base_uri": "https://localhost:8080/",
          "height": 576
        },
        "id": "rkO4slBmr3Os",
        "outputId": "6d9df60b-2e20-47ac-eecb-099cb5739b13"
      },
      "execution_count": 26,
      "outputs": [
        {
          "output_type": "display_data",
          "data": {
            "text/plain": [
              "<Figure size 1400x600 with 2 Axes>"
            ],
            "image/png": "[encoded data removed]"
          },
          "metadata": {}
        }
      ]
    },
    {
      "cell_type": "markdown",
      "source": [
        "Bi-Variate Analysis\n",
        "\n",
        "1. Scatterplot\n",
        "\n",
        "a. GDP_capita\n",
        "\n",
        "b. GDP_growth\n",
        "\n"
      ],
      "metadata": {
        "id": "jbOcETVdi_Gv"
      }
    },
    {
      "cell_type": "code",
      "source": [
        "# a\n",
        "sns.FacetGrid(data, hue=\"GDP_capita\", height=8) \\\n",
        "   .map(plt.scatter, \"Unemployment \", \"Income_Tax\") \\\n",
        "   .add_legend();"
      ],
      "metadata": {
        "colab": {
          "base_uri": "https://localhost:8080/",
          "height": 807
        },
        "id": "GqkZdVDvi_dt",
        "outputId": "d035be68-cccf-4608-82c7-0747ac53a687"
      },
      "execution_count": 27,
      "outputs": [
        {
          "output_type": "display_data",
          "data": {
            "text/plain": [
              "<Figure size 896.5x800 with 1 Axes>"
            ],
            "image/png": "[encoded data removed]"
          },
          "metadata": {}
        }
      ]
    },
    {
      "cell_type": "code",
      "source": [
        "# b\n",
        "sns.FacetGrid(data, hue=\"GDP_growth\", height=8) \\\n",
        "   .map(plt.scatter, \"Unemployment \", \"Income_Tax\") \\\n",
        "   .add_legend();"
      ],
      "metadata": {
        "colab": {
          "base_uri": "https://localhost:8080/",
          "height": 807
        },
        "id": "70ssLl2fn0wY",
        "outputId": "8f80136c-ed9d-44db-d41f-0f9c34589065"
      },
      "execution_count": 28,
      "outputs": [
        {
          "output_type": "display_data",
          "data": {
            "text/plain": [
              "<Figure size 890.861x800 with 1 Axes>"
            ],
            "image/png": "[encoded data removed]"
          },
          "metadata": {}
        }
      ]
    },
    {
      "cell_type": "markdown",
      "source": [
        "ANOVA\n"
      ],
      "metadata": {
        "id": "rjTxW4JA-j_c"
      }
    },
    {
      "cell_type": "code",
      "metadata": {
        "id": "0_UBMJrc15hb",
        "colab": {
          "base_uri": "https://localhost:8080/"
        },
        "outputId": "f2372ab0-83ec-40aa-d21b-a8a57052b2d4"
      },
      "source": [
        "import numpy as np\n",
        "import pandas as pd\n",
        "import matplotlib.pyplot as plt\n",
        "plt.style.use('seaborn')\n",
        "\n",
        "import scipy.stats as ss\n",
        "\n",
        "import matplotlib.gridspec as gridspec\n",
        "\n",
        "#!pip install statsmodels==0.10.0rc2 --pre\n",
        "import statsmodels.api as sm\n",
        "from statsmodels.formula.api import ols\n",
        "\n",
        "from statsmodels.stats.multicomp import MultiComparison\n"
      ],
      "execution_count": 30,
      "outputs": [
        {
          "output_type": "stream",
          "name": "stderr",
          "text": [
            "<ipython-input-30-a157f7937225>:4: MatplotlibDeprecationWarning: The seaborn styles shipped by Matplotlib are deprecated since 3.6, as they no longer correspond to the styles shipped by seaborn. However, they will remain available as 'seaborn-v0_8-<style>'. Alternatively, directly use the seaborn API instead.\n",
            "  plt.style.use('seaborn')\n"
          ]
        }
      ]
    },
    {
      "cell_type": "code",
      "source": [
        "mt=data['Income_Tax'].describe()\n",
        "mt"
      ],
      "metadata": {
        "id": "N2yQ2nPKqixO",
        "colab": {
          "base_uri": "https://localhost:8080/"
        },
        "outputId": "089534dc-3f21-49e8-aa87-a26230304aad"
      },
      "execution_count": 31,
      "outputs": [
        {
          "output_type": "execute_result",
          "data": {
            "text/plain": [
              "count    27.000000\n",
              "mean     21.918519\n",
              "std       8.776982\n",
              "min       9.000000\n",
              "25%      17.500000\n",
              "50%      21.700000\n",
              "75%      26.050000\n",
              "max      52.200000\n",
              "Name: Income_Tax, dtype: float64"
            ]
          },
          "metadata": {},
          "execution_count": 31
        }
      ]
    },
    {
      "cell_type": "code",
      "source": [
        "mt=data['GDP_capita'].describe()\n",
        "mt"
      ],
      "metadata": {
        "colab": {
          "base_uri": "https://localhost:8080/"
        },
        "id": "lKSOaVDr6sxL",
        "outputId": "e603784f-4ab5-4590-87b0-c3abc67e22b1"
      },
      "execution_count": 32,
      "outputs": [
        {
          "output_type": "execute_result",
          "data": {
            "text/plain": [
              "count        27.000000\n",
              "mean      57185.851852\n",
              "std       25426.999171\n",
              "min       32233.000000\n",
              "25%       42518.500000\n",
              "50%       49265.000000\n",
              "75%       64655.000000\n",
              "max      143397.000000\n",
              "Name: GDP_capita, dtype: float64"
            ]
          },
          "metadata": {},
          "execution_count": 32
        }
      ]
    },
    {
      "cell_type": "code",
      "source": [
        "mt=data['GDP_growth'].describe()\n",
        "mt"
      ],
      "metadata": {
        "colab": {
          "base_uri": "https://localhost:8080/"
        },
        "id": "eqp2kYyJ6wj4",
        "outputId": "09ea4867-f991-4e62-c40f-cf608937294b"
      },
      "execution_count": 33,
      "outputs": [
        {
          "output_type": "execute_result",
          "data": {
            "text/plain": [
              "count    27.000000\n",
              "mean      6.229630\n",
              "std       2.587517\n",
              "min       2.600000\n",
              "25%       4.900000\n",
              "50%       6.000000\n",
              "75%       6.950000\n",
              "max      13.600000\n",
              "Name: GDP_growth, dtype: float64"
            ]
          },
          "metadata": {},
          "execution_count": 33
        }
      ]
    },
    {
      "cell_type": "code",
      "source": [
        "mt=data['Unemployment '].describe()\n",
        "mt"
      ],
      "metadata": {
        "colab": {
          "base_uri": "https://localhost:8080/"
        },
        "id": "d4_-Q5eV6zJe",
        "outputId": "b34f4a7a-80e4-4064-a227-92dfee1b4e58"
      },
      "execution_count": 34,
      "outputs": [
        {
          "output_type": "execute_result",
          "data": {
            "text/plain": [
              "count    27.000000\n",
              "mean     35.188985\n",
              "std      11.397225\n",
              "min      19.314583\n",
              "25%      27.664151\n",
              "50%      32.567796\n",
              "75%      41.392696\n",
              "max      62.914613\n",
              "Name: Unemployment , dtype: float64"
            ]
          },
          "metadata": {},
          "execution_count": 34
        }
      ]
    },
    {
      "cell_type": "code",
      "source": [
        "data['Tax_Group_3levels'] = np.where(data['Income_Tax'] < 17.5, 'L',\n",
        "                                      np.where(data['Income_Tax'] < 26.05, 'M', 'H'))"
      ],
      "metadata": {
        "id": "Yix2zPAs1cuw"
      },
      "execution_count": 35,
      "outputs": []
    },
    {
      "cell_type": "code",
      "source": [
        "mu=data['Unemployment '].mean()"
      ],
      "metadata": {
        "id": "bCF5Zr8FsCfE"
      },
      "execution_count": 36,
      "outputs": []
    },
    {
      "cell_type": "code",
      "source": [
        "data['Unemployment_Group']=np.where(data['Unemployment ']<mu,'L','H')"
      ],
      "metadata": {
        "id": "_lExbrtZsVxE"
      },
      "execution_count": 37,
      "outputs": []
    },
    {
      "cell_type": "code",
      "source": [
        "mg=data['GDP_capita'].mean()"
      ],
      "metadata": {
        "id": "xsslOgcFgE1F"
      },
      "execution_count": 38,
      "outputs": []
    },
    {
      "cell_type": "code",
      "source": [
        "data['GDP_Group']=np.where(data['GDP_capita']<mg,'L','H')"
      ],
      "metadata": {
        "id": "Kzlub9QT4LiD"
      },
      "execution_count": 39,
      "outputs": []
    },
    {
      "cell_type": "code",
      "source": [
        "model = ols('GDP_growth~C(Tax_Group_3levels)*C(Unemployment_Group)', data=data).fit()\n",
        "table = sm.stats.anova_lm(model)\n",
        "table"
      ],
      "metadata": {
        "colab": {
          "base_uri": "https://localhost:8080/",
          "height": 175
        },
        "id": "9T2EHrgzsvYm",
        "outputId": "8aed8914-8c57-41a3-e4c6-ffd741d4736e"
      },
      "execution_count": 40,
      "outputs": [
        {
          "output_type": "execute_result",
          "data": {
            "text/plain": [
              "                                              df      sum_sq    mean_sq  \\\n",
              "C(Tax_Group_3levels)                         2.0    1.987725   0.993862   \n",
              "C(Unemployment_Group)                        1.0   17.880944  17.880944   \n",
              "C(Tax_Group_3levels):C(Unemployment_Group)   2.0    5.955008   2.977504   \n",
              "Residual                                    21.0  148.252619   7.059649   \n",
              "\n",
              "                                                   F    PR(>F)  \n",
              "C(Tax_Group_3levels)                        0.140781  0.869493  \n",
              "C(Unemployment_Group)                       2.532838  0.126442  \n",
              "C(Tax_Group_3levels):C(Unemployment_Group)  0.421764  0.661323  \n",
              "Residual                                         NaN       NaN  "
            ],
            "text/html": [
              "\n",
              "\n",
              "  <div id=\"df-a91b3a46-8c0e-48fe-869f-b126e5a60e90\">\n",
              "    <div class=\"colab-df-container\">\n",
              "      <div>\n",
              "<style scoped>\n",
              "    .dataframe tbody tr th:only-of-type {\n",
              "        vertical-align: middle;\n",
              "    }\n",
              "\n",
              "    .dataframe tbody tr th {\n",
              "        vertical-align: top;\n",
              "    }\n",
              "\n",
              "    .dataframe thead th {\n",
              "        text-align: right;\n",
              "    }\n",
              "</style>\n",
              "<table border=\"1\" class=\"dataframe\">\n",
              "  <thead>\n",
              "    <tr style=\"text-align: right;\">\n",
              "      <th></th>\n",
              "      <th>df</th>\n",
              "      <th>sum_sq</th>\n",
              "      <th>mean_sq</th>\n",
              "      <th>F</th>\n",
              "      <th>PR(&gt;F)</th>\n",
              "    </tr>\n",
              "  </thead>\n",
              "  <tbody>\n",
              "    <tr>\n",
              "      <th>C(Tax_Group_3levels)</th>\n",
              "      <td>2.0</td>\n",
              "      <td>1.987725</td>\n",
              "      <td>0.993862</td>\n",
              "      <td>0.140781</td>\n",
              "      <td>0.869493</td>\n",
              "    </tr>\n",
              "    <tr>\n",
              "      <th>C(Unemployment_Group)</th>\n",
              "      <td>1.0</td>\n",
              "      <td>17.880944</td>\n",
              "      <td>17.880944</td>\n",
              "      <td>2.532838</td>\n",
              "      <td>0.126442</td>\n",
              "    </tr>\n",
              "    <tr>\n",
              "      <th>C(Tax_Group_3levels):C(Unemployment_Group)</th>\n",
              "      <td>2.0</td>\n",
              "      <td>5.955008</td>\n",
              "      <td>2.977504</td>\n",
              "      <td>0.421764</td>\n",
              "      <td>0.661323</td>\n",
              "    </tr>\n",
              "    <tr>\n",
              "      <th>Residual</th>\n",
              "      <td>21.0</td>\n",
              "      <td>148.252619</td>\n",
              "      <td>7.059649</td>\n",
              "      <td>NaN</td>\n",
              "      <td>NaN</td>\n",
              "    </tr>\n",
              "  </tbody>\n",
              "</table>\n",
              "</div>\n",
              "      <button class=\"colab-df-convert\" onclick=\"convertToInteractive('df-a91b3a46-8c0e-48fe-869f-b126e5a60e90')\"\n",
              "              title=\"Convert this dataframe to an interactive table.\"\n",
              "              style=\"display:none;\">\n",
              "\n",
              "  <svg xmlns=\"http://www.w3.org/2000/svg\" height=\"24px\"viewBox=\"0 0 24 24\"\n",
              "       width=\"24px\">\n",
              "    <path d=\"M0 0h24v24H0V0z\" fill=\"none\"/>\n",
              "    <path d=\"M18.56 5.44l.94 2.06.94-2.06 2.06-.94-2.06-.94-.94-2.06-.94 2.06-2.06.94zm-11 1L8.5 8.5l.94-2.06 2.06-.94-2.06-.94L8.5 2.5l-.94 2.06-2.06.94zm10 10l.94 2.06.94-2.06 2.06-.94-2.06-.94-.94-2.06-.94 2.06-2.06.94z\"/><path d=\"M17.41 7.96l-1.37-1.37c-.4-.4-.92-.59-1.43-.59-.52 0-1.04.2-1.43.59L10.3 9.45l-7.72 7.72c-.78.78-.78 2.05 0 2.83L4 21.41c.39.39.9.59 1.41.59.51 0 1.02-.2 1.41-.59l7.78-7.78 2.81-2.81c.8-.78.8-2.07 0-2.86zM5.41 20L4 18.59l7.72-7.72 1.47 1.35L5.41 20z\"/>\n",
              "  </svg>\n",
              "      </button>\n",
              "\n",
              "\n",
              "\n",
              "    <div id=\"df-f1b8e756-6b3b-479a-b229-27e37c974d60\">\n",
              "      <button class=\"colab-df-quickchart\" onclick=\"quickchart('df-f1b8e756-6b3b-479a-b229-27e37c974d60')\"\n",
              "              title=\"Suggest charts.\"\n",
              "              style=\"display:none;\">\n",
              "\n",
              "<svg xmlns=\"http://www.w3.org/2000/svg\" height=\"24px\"viewBox=\"0 0 24 24\"\n",
              "     width=\"24px\">\n",
              "    <g>\n",
              "        <path d=\"M19 3H5c-1.1 0-2 .9-2 2v14c0 1.1.9 2 2 2h14c1.1 0 2-.9 2-2V5c0-1.1-.9-2-2-2zM9 17H7v-7h2v7zm4 0h-2V7h2v10zm4 0h-2v-4h2v4z\"/>\n",
              "    </g>\n",
              "</svg>\n",
              "      </button>\n",
              "    </div>\n",
              "\n",
              "<style>\n",
              "  .colab-df-quickchart {\n",
              "    background-color: #E8F0FE;\n",
              "    border: none;\n",
              "    border-radius: 50%;\n",
              "    cursor: pointer;\n",
              "    display: none;\n",
              "    fill: #1967D2;\n",
              "    height: 32px;\n",
              "    padding: 0 0 0 0;\n",
              "    width: 32px;\n",
              "  }\n",
              "\n",
              "  .colab-df-quickchart:hover {\n",
              "    background-color: #E2EBFA;\n",
              "    box-shadow: 0px 1px 2px rgba(60, 64, 67, 0.3), 0px 1px 3px 1px rgba(60, 64, 67, 0.15);\n",
              "    fill: #174EA6;\n",
              "  }\n",
              "\n",
              "  [theme=dark] .colab-df-quickchart {\n",
              "    background-color: #3B4455;\n",
              "    fill: #D2E3FC;\n",
              "  }\n",
              "\n",
              "  [theme=dark] .colab-df-quickchart:hover {\n",
              "    background-color: #434B5C;\n",
              "    box-shadow: 0px 1px 3px 1px rgba(0, 0, 0, 0.15);\n",
              "    filter: drop-shadow(0px 1px 2px rgba(0, 0, 0, 0.3));\n",
              "    fill: #FFFFFF;\n",
              "  }\n",
              "</style>\n",
              "\n",
              "    <script>\n",
              "      async function quickchart(key) {\n",
              "        const containerElement = document.querySelector('#' + key);\n",
              "        const charts = await google.colab.kernel.invokeFunction(\n",
              "            'suggestCharts', [key], {});\n",
              "      }\n",
              "    </script>\n",
              "\n",
              "      <script>\n",
              "\n",
              "function displayQuickchartButton(domScope) {\n",
              "  let quickchartButtonEl =\n",
              "    domScope.querySelector('#df-f1b8e756-6b3b-479a-b229-27e37c974d60 button.colab-df-quickchart');\n",
              "  quickchartButtonEl.style.display =\n",
              "    google.colab.kernel.accessAllowed ? 'block' : 'none';\n",
              "}\n",
              "\n",
              "        displayQuickchartButton(document);\n",
              "      </script>\n",
              "      <style>\n",
              "    .colab-df-container {\n",
              "      display:flex;\n",
              "      flex-wrap:wrap;\n",
              "      gap: 12px;\n",
              "    }\n",
              "\n",
              "    .colab-df-convert {\n",
              "      background-color: #E8F0FE;\n",
              "      border: none;\n",
              "      border-radius: 50%;\n",
              "      cursor: pointer;\n",
              "      display: none;\n",
              "      fill: #1967D2;\n",
              "      height: 32px;\n",
              "      padding: 0 0 0 0;\n",
              "      width: 32px;\n",
              "    }\n",
              "\n",
              "    .colab-df-convert:hover {\n",
              "      background-color: #E2EBFA;\n",
              "      box-shadow: 0px 1px 2px rgba(60, 64, 67, 0.3), 0px 1px 3px 1px rgba(60, 64, 67, 0.15);\n",
              "      fill: #174EA6;\n",
              "    }\n",
              "\n",
              "    [theme=dark] .colab-df-convert {\n",
              "      background-color: #3B4455;\n",
              "      fill: #D2E3FC;\n",
              "    }\n",
              "\n",
              "    [theme=dark] .colab-df-convert:hover {\n",
              "      background-color: #434B5C;\n",
              "      box-shadow: 0px 1px 3px 1px rgba(0, 0, 0, 0.15);\n",
              "      filter: drop-shadow(0px 1px 2px rgba(0, 0, 0, 0.3));\n",
              "      fill: #FFFFFF;\n",
              "    }\n",
              "  </style>\n",
              "\n",
              "      <script>\n",
              "        const buttonEl =\n",
              "          document.querySelector('#df-a91b3a46-8c0e-48fe-869f-b126e5a60e90 button.colab-df-convert');\n",
              "        buttonEl.style.display =\n",
              "          google.colab.kernel.accessAllowed ? 'block' : 'none';\n",
              "\n",
              "        async function convertToInteractive(key) {\n",
              "          const element = document.querySelector('#df-a91b3a46-8c0e-48fe-869f-b126e5a60e90');\n",
              "          const dataTable =\n",
              "            await google.colab.kernel.invokeFunction('convertToInteractive',\n",
              "                                                     [key], {});\n",
              "          if (!dataTable) return;\n",
              "\n",
              "          const docLinkHtml = 'Like what you see? Visit the ' +\n",
              "            '<a target=\"_blank\" href=https://colab.research.google.com/notebooks/data_table.ipynb>data table notebook</a>'\n",
              "            + ' to learn more about interactive tables.';\n",
              "          element.innerHTML = '';\n",
              "          dataTable['output_type'] = 'display_data';\n",
              "          await google.colab.output.renderOutput(dataTable, element);\n",
              "          const docLink = document.createElement('div');\n",
              "          docLink.innerHTML = docLinkHtml;\n",
              "          element.appendChild(docLink);\n",
              "        }\n",
              "      </script>\n",
              "    </div>\n",
              "  </div>\n"
            ]
          },
          "metadata": {},
          "execution_count": 40
        }
      ]
    },
    {
      "cell_type": "code",
      "source": [
        "model = ols('GDP_capita~C(Tax_Group_3levels)*C(Unemployment_Group)', data=data).fit()\n",
        "table = sm.stats.anova_lm(model)\n",
        "table"
      ],
      "metadata": {
        "colab": {
          "base_uri": "https://localhost:8080/",
          "height": 175
        },
        "id": "evJn8BaEgNE6",
        "outputId": "fe3e803f-fb0a-40f3-fc85-cde1c2554fee"
      },
      "execution_count": 41,
      "outputs": [
        {
          "output_type": "execute_result",
          "data": {
            "text/plain": [
              "                                              df        sum_sq       mean_sq  \\\n",
              "C(Tax_Group_3levels)                         2.0  8.114487e+09  4.057244e+09   \n",
              "C(Unemployment_Group)                        1.0  6.398072e+08  6.398072e+08   \n",
              "C(Tax_Group_3levels):C(Unemployment_Group)   2.0  1.700783e+09  8.503917e+08   \n",
              "Residual                                    21.0  6.354762e+09  3.026077e+08   \n",
              "\n",
              "                                                    F    PR(>F)  \n",
              "C(Tax_Group_3levels)                        13.407602  0.000177  \n",
              "C(Unemployment_Group)                        2.114312  0.160711  \n",
              "C(Tax_Group_3levels):C(Unemployment_Group)   2.810212  0.082898  \n",
              "Residual                                          NaN       NaN  "
            ],
            "text/html": [
              "\n",
              "\n",
              "  <div id=\"df-e276d687-5b53-4812-9c7d-8f14384e5ac1\">\n",
              "    <div class=\"colab-df-container\">\n",
              "      <div>\n",
              "<style scoped>\n",
              "    .dataframe tbody tr th:only-of-type {\n",
              "        vertical-align: middle;\n",
              "    }\n",
              "\n",
              "    .dataframe tbody tr th {\n",
              "        vertical-align: top;\n",
              "    }\n",
              "\n",
              "    .dataframe thead th {\n",
              "        text-align: right;\n",
              "    }\n",
              "</style>\n",
              "<table border=\"1\" class=\"dataframe\">\n",
              "  <thead>\n",
              "    <tr style=\"text-align: right;\">\n",
              "      <th></th>\n",
              "      <th>df</th>\n",
              "      <th>sum_sq</th>\n",
              "      <th>mean_sq</th>\n",
              "      <th>F</th>\n",
              "      <th>PR(&gt;F)</th>\n",
              "    </tr>\n",
              "  </thead>\n",
              "  <tbody>\n",
              "    <tr>\n",
              "      <th>C(Tax_Group_3levels)</th>\n",
              "      <td>2.0</td>\n",
              "      <td>8.114487e+09</td>\n",
              "      <td>4.057244e+09</td>\n",
              "      <td>13.407602</td>\n",
              "      <td>0.000177</td>\n",
              "    </tr>\n",
              "    <tr>\n",
              "      <th>C(Unemployment_Group)</th>\n",
              "      <td>1.0</td>\n",
              "      <td>6.398072e+08</td>\n",
              "      <td>6.398072e+08</td>\n",
              "      <td>2.114312</td>\n",
              "      <td>0.160711</td>\n",
              "    </tr>\n",
              "    <tr>\n",
              "      <th>C(Tax_Group_3levels):C(Unemployment_Group)</th>\n",
              "      <td>2.0</td>\n",
              "      <td>1.700783e+09</td>\n",
              "      <td>8.503917e+08</td>\n",
              "      <td>2.810212</td>\n",
              "      <td>0.082898</td>\n",
              "    </tr>\n",
              "    <tr>\n",
              "      <th>Residual</th>\n",
              "      <td>21.0</td>\n",
              "      <td>6.354762e+09</td>\n",
              "      <td>3.026077e+08</td>\n",
              "      <td>NaN</td>\n",
              "      <td>NaN</td>\n",
              "    </tr>\n",
              "  </tbody>\n",
              "</table>\n",
              "</div>\n",
              "      <button class=\"colab-df-convert\" onclick=\"convertToInteractive('df-e276d687-5b53-4812-9c7d-8f14384e5ac1')\"\n",
              "              title=\"Convert this dataframe to an interactive table.\"\n",
              "              style=\"display:none;\">\n",
              "\n",
              "  <svg xmlns=\"http://www.w3.org/2000/svg\" height=\"24px\"viewBox=\"0 0 24 24\"\n",
              "       width=\"24px\">\n",
              "    <path d=\"M0 0h24v24H0V0z\" fill=\"none\"/>\n",
              "    <path d=\"M18.56 5.44l.94 2.06.94-2.06 2.06-.94-2.06-.94-.94-2.06-.94 2.06-2.06.94zm-11 1L8.5 8.5l.94-2.06 2.06-.94-2.06-.94L8.5 2.5l-.94 2.06-2.06.94zm10 10l.94 2.06.94-2.06 2.06-.94-2.06-.94-.94-2.06-.94 2.06-2.06.94z\"/><path d=\"M17.41 7.96l-1.37-1.37c-.4-.4-.92-.59-1.43-.59-.52 0-1.04.2-1.43.59L10.3 9.45l-7.72 7.72c-.78.78-.78 2.05 0 2.83L4 21.41c.39.39.9.59 1.41.59.51 0 1.02-.2 1.41-.59l7.78-7.78 2.81-2.81c.8-.78.8-2.07 0-2.86zM5.41 20L4 18.59l7.72-7.72 1.47 1.35L5.41 20z\"/>\n",
              "  </svg>\n",
              "      </button>\n",
              "\n",
              "\n",
              "\n",
              "    <div id=\"df-6bb60c99-f56c-4669-b2db-95d39dd760b9\">\n",
              "      <button class=\"colab-df-quickchart\" onclick=\"quickchart('df-6bb60c99-f56c-4669-b2db-95d39dd760b9')\"\n",
              "              title=\"Suggest charts.\"\n",
              "              style=\"display:none;\">\n",
              "\n",
              "<svg xmlns=\"http://www.w3.org/2000/svg\" height=\"24px\"viewBox=\"0 0 24 24\"\n",
              "     width=\"24px\">\n",
              "    <g>\n",
              "        <path d=\"M19 3H5c-1.1 0-2 .9-2 2v14c0 1.1.9 2 2 2h14c1.1 0 2-.9 2-2V5c0-1.1-.9-2-2-2zM9 17H7v-7h2v7zm4 0h-2V7h2v10zm4 0h-2v-4h2v4z\"/>\n",
              "    </g>\n",
              "</svg>\n",
              "      </button>\n",
              "    </div>\n",
              "\n",
              "<style>\n",
              "  .colab-df-quickchart {\n",
              "    background-color: #E8F0FE;\n",
              "    border: none;\n",
              "    border-radius: 50%;\n",
              "    cursor: pointer;\n",
              "    display: none;\n",
              "    fill: #1967D2;\n",
              "    height: 32px;\n",
              "    padding: 0 0 0 0;\n",
              "    width: 32px;\n",
              "  }\n",
              "\n",
              "  .colab-df-quickchart:hover {\n",
              "    background-color: #E2EBFA;\n",
              "    box-shadow: 0px 1px 2px rgba(60, 64, 67, 0.3), 0px 1px 3px 1px rgba(60, 64, 67, 0.15);\n",
              "    fill: #174EA6;\n",
              "  }\n",
              "\n",
              "  [theme=dark] .colab-df-quickchart {\n",
              "    background-color: #3B4455;\n",
              "    fill: #D2E3FC;\n",
              "  }\n",
              "\n",
              "  [theme=dark] .colab-df-quickchart:hover {\n",
              "    background-color: #434B5C;\n",
              "    box-shadow: 0px 1px 3px 1px rgba(0, 0, 0, 0.15);\n",
              "    filter: drop-shadow(0px 1px 2px rgba(0, 0, 0, 0.3));\n",
              "    fill: #FFFFFF;\n",
              "  }\n",
              "</style>\n",
              "\n",
              "    <script>\n",
              "      async function quickchart(key) {\n",
              "        const containerElement = document.querySelector('#' + key);\n",
              "        const charts = await google.colab.kernel.invokeFunction(\n",
              "            'suggestCharts', [key], {});\n",
              "      }\n",
              "    </script>\n",
              "\n",
              "      <script>\n",
              "\n",
              "function displayQuickchartButton(domScope) {\n",
              "  let quickchartButtonEl =\n",
              "    domScope.querySelector('#df-6bb60c99-f56c-4669-b2db-95d39dd760b9 button.colab-df-quickchart');\n",
              "  quickchartButtonEl.style.display =\n",
              "    google.colab.kernel.accessAllowed ? 'block' : 'none';\n",
              "}\n",
              "\n",
              "        displayQuickchartButton(document);\n",
              "      </script>\n",
              "      <style>\n",
              "    .colab-df-container {\n",
              "      display:flex;\n",
              "      flex-wrap:wrap;\n",
              "      gap: 12px;\n",
              "    }\n",
              "\n",
              "    .colab-df-convert {\n",
              "      background-color: #E8F0FE;\n",
              "      border: none;\n",
              "      border-radius: 50%;\n",
              "      cursor: pointer;\n",
              "      display: none;\n",
              "      fill: #1967D2;\n",
              "      height: 32px;\n",
              "      padding: 0 0 0 0;\n",
              "      width: 32px;\n",
              "    }\n",
              "\n",
              "    .colab-df-convert:hover {\n",
              "      background-color: #E2EBFA;\n",
              "      box-shadow: 0px 1px 2px rgba(60, 64, 67, 0.3), 0px 1px 3px 1px rgba(60, 64, 67, 0.15);\n",
              "      fill: #174EA6;\n",
              "    }\n",
              "\n",
              "    [theme=dark] .colab-df-convert {\n",
              "      background-color: #3B4455;\n",
              "      fill: #D2E3FC;\n",
              "    }\n",
              "\n",
              "    [theme=dark] .colab-df-convert:hover {\n",
              "      background-color: #434B5C;\n",
              "      box-shadow: 0px 1px 3px 1px rgba(0, 0, 0, 0.15);\n",
              "      filter: drop-shadow(0px 1px 2px rgba(0, 0, 0, 0.3));\n",
              "      fill: #FFFFFF;\n",
              "    }\n",
              "  </style>\n",
              "\n",
              "      <script>\n",
              "        const buttonEl =\n",
              "          document.querySelector('#df-e276d687-5b53-4812-9c7d-8f14384e5ac1 button.colab-df-convert');\n",
              "        buttonEl.style.display =\n",
              "          google.colab.kernel.accessAllowed ? 'block' : 'none';\n",
              "\n",
              "        async function convertToInteractive(key) {\n",
              "          const element = document.querySelector('#df-e276d687-5b53-4812-9c7d-8f14384e5ac1');\n",
              "          const dataTable =\n",
              "            await google.colab.kernel.invokeFunction('convertToInteractive',\n",
              "                                                     [key], {});\n",
              "          if (!dataTable) return;\n",
              "\n",
              "          const docLinkHtml = 'Like what you see? Visit the ' +\n",
              "            '<a target=\"_blank\" href=https://colab.research.google.com/notebooks/data_table.ipynb>data table notebook</a>'\n",
              "            + ' to learn more about interactive tables.';\n",
              "          element.innerHTML = '';\n",
              "          dataTable['output_type'] = 'display_data';\n",
              "          await google.colab.output.renderOutput(dataTable, element);\n",
              "          const docLink = document.createElement('div');\n",
              "          docLink.innerHTML = docLinkHtml;\n",
              "          element.appendChild(docLink);\n",
              "        }\n",
              "      </script>\n",
              "    </div>\n",
              "  </div>\n"
            ]
          },
          "metadata": {},
          "execution_count": 41
        }
      ]
    }
  ]
}